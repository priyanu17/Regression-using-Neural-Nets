{
  "nbformat": 4,
  "nbformat_minor": 0,
  "metadata": {
    "colab": {
      "name": "6_self_19/5/2020_Wine_Practice_Dataset.ipynb",
      "provenance": [],
      "collapsed_sections": [],
      "authorship_tag": "ABX9TyP9McOgXh/guUFX8ZxX4ytN",
      "include_colab_link": true
    },
    "kernelspec": {
      "name": "python3",
      "display_name": "Python 3"
    }
  },
  "cells": [
    {
      "cell_type": "markdown",
      "metadata": {
        "id": "view-in-github",
        "colab_type": "text"
      },
      "source": [
        "<a href=\"https://colab.research.google.com/github/priyanu17/Regression-using-Neural-Nets/blob/master/Wine_Quality_analysis.ipynb\" target=\"_parent\"><img src=\"https://colab.research.google.com/assets/colab-badge.svg\" alt=\"Open In Colab\"/></a>"
      ]
    },
    {
      "cell_type": "code",
      "metadata": {
        "id": "DruSO4Ezg2uD",
        "colab_type": "code",
        "outputId": "d2564514-1456-4e35-d39a-a7cfd290a70b",
        "colab": {
          "base_uri": "https://localhost:8080/",
          "height": 70
        }
      },
      "source": [
        "import numpy as np\n",
        "import pandas as pd\n",
        "import matplotlib.pyplot as plt\n",
        "import seaborn as sns\n",
        "%matplotlib inline"
      ],
      "execution_count": 2,
      "outputs": [
        {
          "output_type": "stream",
          "text": [
            "/usr/local/lib/python3.6/dist-packages/statsmodels/tools/_testing.py:19: FutureWarning: pandas.util.testing is deprecated. Use the functions in the public API at pandas.testing instead.\n",
            "  import pandas.util.testing as tm\n"
          ],
          "name": "stderr"
        }
      ]
    },
    {
      "cell_type": "code",
      "metadata": {
        "id": "ok9O-uzLDXYA",
        "colab_type": "code",
        "colab": {}
      },
      "source": [
        "import pandas.util.testing as tm"
      ],
      "execution_count": 0,
      "outputs": []
    },
    {
      "cell_type": "code",
      "metadata": {
        "id": "rWp6bG-YhRz1",
        "colab_type": "code",
        "colab": {}
      },
      "source": [
        "## Importing dataset\n",
        "\n",
        "wine = pd.read_csv(\"winequality-white.csv\", delimiter = \";\")"
      ],
      "execution_count": 0,
      "outputs": []
    },
    {
      "cell_type": "code",
      "metadata": {
        "id": "Kw4mllEYh6AU",
        "colab_type": "code",
        "outputId": "b8b86878-83ed-45d0-d637-fef872116a6e",
        "colab": {
          "base_uri": "https://localhost:8080/",
          "height": 249
        }
      },
      "source": [
        "# Head on data\n",
        "\n",
        "wine.head()"
      ],
      "execution_count": 5,
      "outputs": [
        {
          "output_type": "execute_result",
          "data": {
            "text/html": [
              "<div>\n",
              "<style scoped>\n",
              "    .dataframe tbody tr th:only-of-type {\n",
              "        vertical-align: middle;\n",
              "    }\n",
              "\n",
              "    .dataframe tbody tr th {\n",
              "        vertical-align: top;\n",
              "    }\n",
              "\n",
              "    .dataframe thead th {\n",
              "        text-align: right;\n",
              "    }\n",
              "</style>\n",
              "<table border=\"1\" class=\"dataframe\">\n",
              "  <thead>\n",
              "    <tr style=\"text-align: right;\">\n",
              "      <th></th>\n",
              "      <th>fixed acidity</th>\n",
              "      <th>volatile acidity</th>\n",
              "      <th>citric acid</th>\n",
              "      <th>residual sugar</th>\n",
              "      <th>chlorides</th>\n",
              "      <th>free sulfur dioxide</th>\n",
              "      <th>total sulfur dioxide</th>\n",
              "      <th>density</th>\n",
              "      <th>pH</th>\n",
              "      <th>sulphates</th>\n",
              "      <th>alcohol</th>\n",
              "      <th>quality</th>\n",
              "    </tr>\n",
              "  </thead>\n",
              "  <tbody>\n",
              "    <tr>\n",
              "      <th>0</th>\n",
              "      <td>7.0</td>\n",
              "      <td>0.27</td>\n",
              "      <td>0.36</td>\n",
              "      <td>20.7</td>\n",
              "      <td>0.045</td>\n",
              "      <td>45.0</td>\n",
              "      <td>170.0</td>\n",
              "      <td>1.0010</td>\n",
              "      <td>3.00</td>\n",
              "      <td>0.45</td>\n",
              "      <td>8.8</td>\n",
              "      <td>6</td>\n",
              "    </tr>\n",
              "    <tr>\n",
              "      <th>1</th>\n",
              "      <td>6.3</td>\n",
              "      <td>0.30</td>\n",
              "      <td>0.34</td>\n",
              "      <td>1.6</td>\n",
              "      <td>0.049</td>\n",
              "      <td>14.0</td>\n",
              "      <td>132.0</td>\n",
              "      <td>0.9940</td>\n",
              "      <td>3.30</td>\n",
              "      <td>0.49</td>\n",
              "      <td>9.5</td>\n",
              "      <td>6</td>\n",
              "    </tr>\n",
              "    <tr>\n",
              "      <th>2</th>\n",
              "      <td>8.1</td>\n",
              "      <td>0.28</td>\n",
              "      <td>0.40</td>\n",
              "      <td>6.9</td>\n",
              "      <td>0.050</td>\n",
              "      <td>30.0</td>\n",
              "      <td>97.0</td>\n",
              "      <td>0.9951</td>\n",
              "      <td>3.26</td>\n",
              "      <td>0.44</td>\n",
              "      <td>10.1</td>\n",
              "      <td>6</td>\n",
              "    </tr>\n",
              "    <tr>\n",
              "      <th>3</th>\n",
              "      <td>7.2</td>\n",
              "      <td>0.23</td>\n",
              "      <td>0.32</td>\n",
              "      <td>8.5</td>\n",
              "      <td>0.058</td>\n",
              "      <td>47.0</td>\n",
              "      <td>186.0</td>\n",
              "      <td>0.9956</td>\n",
              "      <td>3.19</td>\n",
              "      <td>0.40</td>\n",
              "      <td>9.9</td>\n",
              "      <td>6</td>\n",
              "    </tr>\n",
              "    <tr>\n",
              "      <th>4</th>\n",
              "      <td>7.2</td>\n",
              "      <td>0.23</td>\n",
              "      <td>0.32</td>\n",
              "      <td>8.5</td>\n",
              "      <td>0.058</td>\n",
              "      <td>47.0</td>\n",
              "      <td>186.0</td>\n",
              "      <td>0.9956</td>\n",
              "      <td>3.19</td>\n",
              "      <td>0.40</td>\n",
              "      <td>9.9</td>\n",
              "      <td>6</td>\n",
              "    </tr>\n",
              "  </tbody>\n",
              "</table>\n",
              "</div>"
            ],
            "text/plain": [
              "   fixed acidity  volatile acidity  citric acid  ...  sulphates  alcohol  quality\n",
              "0            7.0              0.27         0.36  ...       0.45      8.8        6\n",
              "1            6.3              0.30         0.34  ...       0.49      9.5        6\n",
              "2            8.1              0.28         0.40  ...       0.44     10.1        6\n",
              "3            7.2              0.23         0.32  ...       0.40      9.9        6\n",
              "4            7.2              0.23         0.32  ...       0.40      9.9        6\n",
              "\n",
              "[5 rows x 12 columns]"
            ]
          },
          "metadata": {
            "tags": []
          },
          "execution_count": 5
        }
      ]
    },
    {
      "cell_type": "code",
      "metadata": {
        "id": "b8RachESh8JA",
        "colab_type": "code",
        "outputId": "50110f91-1a13-4e24-c7ca-169a36e648bf",
        "colab": {
          "base_uri": "https://localhost:8080/",
          "height": 34
        }
      },
      "source": [
        "# Shape of data\n",
        "\n",
        "wine.shape"
      ],
      "execution_count": 6,
      "outputs": [
        {
          "output_type": "execute_result",
          "data": {
            "text/plain": [
              "(4898, 12)"
            ]
          },
          "metadata": {
            "tags": []
          },
          "execution_count": 6
        }
      ]
    },
    {
      "cell_type": "code",
      "metadata": {
        "id": "0igfO0oC90hI",
        "colab_type": "code",
        "outputId": "1208f199-f2f6-4e99-c622-3f7405f7f729",
        "colab": {
          "base_uri": "https://localhost:8080/",
          "height": 84
        }
      },
      "source": [
        "# Columns in data:\n",
        "\n",
        "wine.columns"
      ],
      "execution_count": 7,
      "outputs": [
        {
          "output_type": "execute_result",
          "data": {
            "text/plain": [
              "Index(['fixed acidity', 'volatile acidity', 'citric acid', 'residual sugar',\n",
              "       'chlorides', 'free sulfur dioxide', 'total sulfur dioxide', 'density',\n",
              "       'pH', 'sulphates', 'alcohol', 'quality'],\n",
              "      dtype='object')"
            ]
          },
          "metadata": {
            "tags": []
          },
          "execution_count": 7
        }
      ]
    },
    {
      "cell_type": "code",
      "metadata": {
        "id": "C4cGcCAA_E1O",
        "colab_type": "code",
        "colab": {}
      },
      "source": [
        "# PROBLEM STATEMENT\n",
        "\n",
        "# Find high risk variables\n",
        "# Find the dependencies between wine \"quality\" and wine parameters\n",
        "# Find most appropriate machine learning algorithm to predict wine quality with high accuracy"
      ],
      "execution_count": 0,
      "outputs": []
    },
    {
      "cell_type": "code",
      "metadata": {
        "id": "dxXTXc4lrqj7",
        "colab_type": "code",
        "colab": {}
      },
      "source": [
        ""
      ],
      "execution_count": 0,
      "outputs": []
    },
    {
      "cell_type": "code",
      "metadata": {
        "id": "56LUyzcD-A7W",
        "colab_type": "code",
        "outputId": "8813ddd7-2fa8-43db-da42-1086c3a38f3f",
        "colab": {
          "base_uri": "https://localhost:8080/",
          "height": 34
        }
      },
      "source": [
        "# Target Variable\n",
        "\n",
        "wine.columns[11]"
      ],
      "execution_count": 9,
      "outputs": [
        {
          "output_type": "execute_result",
          "data": {
            "text/plain": [
              "'quality'"
            ]
          },
          "metadata": {
            "tags": []
          },
          "execution_count": 9
        }
      ]
    },
    {
      "cell_type": "code",
      "metadata": {
        "id": "Nc6xDcXy-FMQ",
        "colab_type": "code",
        "outputId": "29b008e4-3a47-471a-8234-ad16fedd79c7",
        "colab": {
          "base_uri": "https://localhost:8080/",
          "height": 336
        }
      },
      "source": [
        "# Info on data\n",
        "\n",
        "wine.info()"
      ],
      "execution_count": 10,
      "outputs": [
        {
          "output_type": "stream",
          "text": [
            "<class 'pandas.core.frame.DataFrame'>\n",
            "RangeIndex: 4898 entries, 0 to 4897\n",
            "Data columns (total 12 columns):\n",
            " #   Column                Non-Null Count  Dtype  \n",
            "---  ------                --------------  -----  \n",
            " 0   fixed acidity         4898 non-null   float64\n",
            " 1   volatile acidity      4898 non-null   float64\n",
            " 2   citric acid           4898 non-null   float64\n",
            " 3   residual sugar        4898 non-null   float64\n",
            " 4   chlorides             4898 non-null   float64\n",
            " 5   free sulfur dioxide   4898 non-null   float64\n",
            " 6   total sulfur dioxide  4898 non-null   float64\n",
            " 7   density               4898 non-null   float64\n",
            " 8   pH                    4898 non-null   float64\n",
            " 9   sulphates             4898 non-null   float64\n",
            " 10  alcohol               4898 non-null   float64\n",
            " 11  quality               4898 non-null   int64  \n",
            "dtypes: float64(11), int64(1)\n",
            "memory usage: 459.3 KB\n"
          ],
          "name": "stdout"
        }
      ]
    },
    {
      "cell_type": "code",
      "metadata": {
        "id": "eJEo6J7A-R2N",
        "colab_type": "code",
        "colab": {}
      },
      "source": [
        "## All variables are of type float\n",
        "# No categorical variables are present"
      ],
      "execution_count": 0,
      "outputs": []
    },
    {
      "cell_type": "code",
      "metadata": {
        "id": "rSsyjs-T-bIm",
        "colab_type": "code",
        "outputId": "475ac9bc-01bd-4595-c4ac-9e8419460a0e",
        "colab": {
          "base_uri": "https://localhost:8080/",
          "height": 402
        }
      },
      "source": [
        "# Describe on dataset\n",
        "\n",
        "wine.describe().transpose()"
      ],
      "execution_count": 12,
      "outputs": [
        {
          "output_type": "execute_result",
          "data": {
            "text/html": [
              "<div>\n",
              "<style scoped>\n",
              "    .dataframe tbody tr th:only-of-type {\n",
              "        vertical-align: middle;\n",
              "    }\n",
              "\n",
              "    .dataframe tbody tr th {\n",
              "        vertical-align: top;\n",
              "    }\n",
              "\n",
              "    .dataframe thead th {\n",
              "        text-align: right;\n",
              "    }\n",
              "</style>\n",
              "<table border=\"1\" class=\"dataframe\">\n",
              "  <thead>\n",
              "    <tr style=\"text-align: right;\">\n",
              "      <th></th>\n",
              "      <th>count</th>\n",
              "      <th>mean</th>\n",
              "      <th>std</th>\n",
              "      <th>min</th>\n",
              "      <th>25%</th>\n",
              "      <th>50%</th>\n",
              "      <th>75%</th>\n",
              "      <th>max</th>\n",
              "    </tr>\n",
              "  </thead>\n",
              "  <tbody>\n",
              "    <tr>\n",
              "      <th>fixed acidity</th>\n",
              "      <td>4898.0</td>\n",
              "      <td>6.854788</td>\n",
              "      <td>0.843868</td>\n",
              "      <td>3.80000</td>\n",
              "      <td>6.300000</td>\n",
              "      <td>6.80000</td>\n",
              "      <td>7.3000</td>\n",
              "      <td>14.20000</td>\n",
              "    </tr>\n",
              "    <tr>\n",
              "      <th>volatile acidity</th>\n",
              "      <td>4898.0</td>\n",
              "      <td>0.278241</td>\n",
              "      <td>0.100795</td>\n",
              "      <td>0.08000</td>\n",
              "      <td>0.210000</td>\n",
              "      <td>0.26000</td>\n",
              "      <td>0.3200</td>\n",
              "      <td>1.10000</td>\n",
              "    </tr>\n",
              "    <tr>\n",
              "      <th>citric acid</th>\n",
              "      <td>4898.0</td>\n",
              "      <td>0.334192</td>\n",
              "      <td>0.121020</td>\n",
              "      <td>0.00000</td>\n",
              "      <td>0.270000</td>\n",
              "      <td>0.32000</td>\n",
              "      <td>0.3900</td>\n",
              "      <td>1.66000</td>\n",
              "    </tr>\n",
              "    <tr>\n",
              "      <th>residual sugar</th>\n",
              "      <td>4898.0</td>\n",
              "      <td>6.391415</td>\n",
              "      <td>5.072058</td>\n",
              "      <td>0.60000</td>\n",
              "      <td>1.700000</td>\n",
              "      <td>5.20000</td>\n",
              "      <td>9.9000</td>\n",
              "      <td>65.80000</td>\n",
              "    </tr>\n",
              "    <tr>\n",
              "      <th>chlorides</th>\n",
              "      <td>4898.0</td>\n",
              "      <td>0.045772</td>\n",
              "      <td>0.021848</td>\n",
              "      <td>0.00900</td>\n",
              "      <td>0.036000</td>\n",
              "      <td>0.04300</td>\n",
              "      <td>0.0500</td>\n",
              "      <td>0.34600</td>\n",
              "    </tr>\n",
              "    <tr>\n",
              "      <th>free sulfur dioxide</th>\n",
              "      <td>4898.0</td>\n",
              "      <td>35.308085</td>\n",
              "      <td>17.007137</td>\n",
              "      <td>2.00000</td>\n",
              "      <td>23.000000</td>\n",
              "      <td>34.00000</td>\n",
              "      <td>46.0000</td>\n",
              "      <td>289.00000</td>\n",
              "    </tr>\n",
              "    <tr>\n",
              "      <th>total sulfur dioxide</th>\n",
              "      <td>4898.0</td>\n",
              "      <td>138.360657</td>\n",
              "      <td>42.498065</td>\n",
              "      <td>9.00000</td>\n",
              "      <td>108.000000</td>\n",
              "      <td>134.00000</td>\n",
              "      <td>167.0000</td>\n",
              "      <td>440.00000</td>\n",
              "    </tr>\n",
              "    <tr>\n",
              "      <th>density</th>\n",
              "      <td>4898.0</td>\n",
              "      <td>0.994027</td>\n",
              "      <td>0.002991</td>\n",
              "      <td>0.98711</td>\n",
              "      <td>0.991723</td>\n",
              "      <td>0.99374</td>\n",
              "      <td>0.9961</td>\n",
              "      <td>1.03898</td>\n",
              "    </tr>\n",
              "    <tr>\n",
              "      <th>pH</th>\n",
              "      <td>4898.0</td>\n",
              "      <td>3.188267</td>\n",
              "      <td>0.151001</td>\n",
              "      <td>2.72000</td>\n",
              "      <td>3.090000</td>\n",
              "      <td>3.18000</td>\n",
              "      <td>3.2800</td>\n",
              "      <td>3.82000</td>\n",
              "    </tr>\n",
              "    <tr>\n",
              "      <th>sulphates</th>\n",
              "      <td>4898.0</td>\n",
              "      <td>0.489847</td>\n",
              "      <td>0.114126</td>\n",
              "      <td>0.22000</td>\n",
              "      <td>0.410000</td>\n",
              "      <td>0.47000</td>\n",
              "      <td>0.5500</td>\n",
              "      <td>1.08000</td>\n",
              "    </tr>\n",
              "    <tr>\n",
              "      <th>alcohol</th>\n",
              "      <td>4898.0</td>\n",
              "      <td>10.514267</td>\n",
              "      <td>1.230621</td>\n",
              "      <td>8.00000</td>\n",
              "      <td>9.500000</td>\n",
              "      <td>10.40000</td>\n",
              "      <td>11.4000</td>\n",
              "      <td>14.20000</td>\n",
              "    </tr>\n",
              "    <tr>\n",
              "      <th>quality</th>\n",
              "      <td>4898.0</td>\n",
              "      <td>5.877909</td>\n",
              "      <td>0.885639</td>\n",
              "      <td>3.00000</td>\n",
              "      <td>5.000000</td>\n",
              "      <td>6.00000</td>\n",
              "      <td>6.0000</td>\n",
              "      <td>9.00000</td>\n",
              "    </tr>\n",
              "  </tbody>\n",
              "</table>\n",
              "</div>"
            ],
            "text/plain": [
              "                       count        mean  ...       75%        max\n",
              "fixed acidity         4898.0    6.854788  ...    7.3000   14.20000\n",
              "volatile acidity      4898.0    0.278241  ...    0.3200    1.10000\n",
              "citric acid           4898.0    0.334192  ...    0.3900    1.66000\n",
              "residual sugar        4898.0    6.391415  ...    9.9000   65.80000\n",
              "chlorides             4898.0    0.045772  ...    0.0500    0.34600\n",
              "free sulfur dioxide   4898.0   35.308085  ...   46.0000  289.00000\n",
              "total sulfur dioxide  4898.0  138.360657  ...  167.0000  440.00000\n",
              "density               4898.0    0.994027  ...    0.9961    1.03898\n",
              "pH                    4898.0    3.188267  ...    3.2800    3.82000\n",
              "sulphates             4898.0    0.489847  ...    0.5500    1.08000\n",
              "alcohol               4898.0   10.514267  ...   11.4000   14.20000\n",
              "quality               4898.0    5.877909  ...    6.0000    9.00000\n",
              "\n",
              "[12 rows x 8 columns]"
            ]
          },
          "metadata": {
            "tags": []
          },
          "execution_count": 12
        }
      ]
    },
    {
      "cell_type": "code",
      "metadata": {
        "id": "5CyFx4q0-f0g",
        "colab_type": "code",
        "outputId": "8b9c3953-9061-4b6b-8746-3e844d21b206",
        "colab": {
          "base_uri": "https://localhost:8080/",
          "height": 235
        }
      },
      "source": [
        "# Dtypes on dataset\n",
        "\n",
        "wine.dtypes"
      ],
      "execution_count": 13,
      "outputs": [
        {
          "output_type": "execute_result",
          "data": {
            "text/plain": [
              "fixed acidity           float64\n",
              "volatile acidity        float64\n",
              "citric acid             float64\n",
              "residual sugar          float64\n",
              "chlorides               float64\n",
              "free sulfur dioxide     float64\n",
              "total sulfur dioxide    float64\n",
              "density                 float64\n",
              "pH                      float64\n",
              "sulphates               float64\n",
              "alcohol                 float64\n",
              "quality                   int64\n",
              "dtype: object"
            ]
          },
          "metadata": {
            "tags": []
          },
          "execution_count": 13
        }
      ]
    },
    {
      "cell_type": "code",
      "metadata": {
        "id": "GsFp4bvL-j44",
        "colab_type": "code",
        "colab": {}
      },
      "source": [
        "## All float type entries Except the target variable"
      ],
      "execution_count": 0,
      "outputs": []
    },
    {
      "cell_type": "code",
      "metadata": {
        "id": "ZPZaTkTO-1vq",
        "colab_type": "code",
        "outputId": "0ea05e18-5708-4101-80ca-c6e5bd89e3d3",
        "colab": {
          "base_uri": "https://localhost:8080/",
          "height": 67
        }
      },
      "source": [
        "## Checking for duplicate entries in dataset\n",
        "wine.duplicated(keep = \"first\").value_counts()"
      ],
      "execution_count": 15,
      "outputs": [
        {
          "output_type": "execute_result",
          "data": {
            "text/plain": [
              "False    3961\n",
              "True      937\n",
              "dtype: int64"
            ]
          },
          "metadata": {
            "tags": []
          },
          "execution_count": 15
        }
      ]
    },
    {
      "cell_type": "code",
      "metadata": {
        "id": "cdHiURGC-6rB",
        "colab_type": "code",
        "colab": {}
      },
      "source": [
        "## We have duplicate entries in the data"
      ],
      "execution_count": 0,
      "outputs": []
    },
    {
      "cell_type": "code",
      "metadata": {
        "id": "f-F9mI4lANfV",
        "colab_type": "code",
        "colab": {}
      },
      "source": [
        "# Dropping duplicate entries\n",
        "wine.drop_duplicates(keep = 'first', inplace = True)"
      ],
      "execution_count": 0,
      "outputs": []
    },
    {
      "cell_type": "code",
      "metadata": {
        "id": "jxPhRYAuAlIc",
        "colab_type": "code",
        "outputId": "29afdda5-d3c2-49fc-caa0-2738d830b49a",
        "colab": {
          "base_uri": "https://localhost:8080/",
          "height": 50
        }
      },
      "source": [
        "wine.duplicated(keep = \"first\").value_counts()"
      ],
      "execution_count": 18,
      "outputs": [
        {
          "output_type": "execute_result",
          "data": {
            "text/plain": [
              "False    3961\n",
              "dtype: int64"
            ]
          },
          "metadata": {
            "tags": []
          },
          "execution_count": 18
        }
      ]
    },
    {
      "cell_type": "code",
      "metadata": {
        "id": "y9wWZShUAnj7",
        "colab_type": "code",
        "colab": {}
      },
      "source": [
        "# Now, we do not have any duplicate entries in our dataset"
      ],
      "execution_count": 0,
      "outputs": []
    },
    {
      "cell_type": "code",
      "metadata": {
        "id": "8fC82dNdAsHq",
        "colab_type": "code",
        "colab": {}
      },
      "source": [
        "# Function to check for constant feature columns in our data.\n",
        "def find_constant_features(dataFrame):\n",
        "    const_features = []\n",
        "    for column in list(dataFrame.columns):\n",
        "        if dataFrame[column].unique().size < 2:\n",
        "            const_features.append(column)\n",
        "    return const_features"
      ],
      "execution_count": 0,
      "outputs": []
    },
    {
      "cell_type": "code",
      "metadata": {
        "id": "PvYPggvLAxrp",
        "colab_type": "code",
        "outputId": "da85867f-c66a-4e8b-c810-8af4368f456b",
        "colab": {
          "base_uri": "https://localhost:8080/",
          "height": 50
        }
      },
      "source": [
        "print(\"Constant feature columns are : \")\n",
        "find_constant_features(wine)"
      ],
      "execution_count": 21,
      "outputs": [
        {
          "output_type": "stream",
          "text": [
            "Constant feature columns are : \n"
          ],
          "name": "stdout"
        },
        {
          "output_type": "execute_result",
          "data": {
            "text/plain": [
              "[]"
            ]
          },
          "metadata": {
            "tags": []
          },
          "execution_count": 21
        }
      ]
    },
    {
      "cell_type": "code",
      "metadata": {
        "id": "wu_FO_4HAznm",
        "colab_type": "code",
        "colab": {}
      },
      "source": [
        "## Thus, no constant feature columns are present in our dataset"
      ],
      "execution_count": 0,
      "outputs": []
    },
    {
      "cell_type": "code",
      "metadata": {
        "id": "Z2XOrgh1A45K",
        "colab_type": "code",
        "colab": {}
      },
      "source": [
        "# In case of constant feature columns -- they can be dropped"
      ],
      "execution_count": 0,
      "outputs": []
    },
    {
      "cell_type": "code",
      "metadata": {
        "id": "N7sLW89fBHo3",
        "colab_type": "code",
        "colab": {}
      },
      "source": [
        ""
      ],
      "execution_count": 0,
      "outputs": []
    },
    {
      "cell_type": "code",
      "metadata": {
        "id": "aELCFVTiBNmK",
        "colab_type": "code",
        "outputId": "828e94fe-5ea0-4c49-ff59-2098c45be2ed",
        "colab": {
          "base_uri": "https://localhost:8080/",
          "height": 235
        }
      },
      "source": [
        "## Checking for null values in our dataset\n",
        "\n",
        "wine.isna().sum()"
      ],
      "execution_count": 24,
      "outputs": [
        {
          "output_type": "execute_result",
          "data": {
            "text/plain": [
              "fixed acidity           0\n",
              "volatile acidity        0\n",
              "citric acid             0\n",
              "residual sugar          0\n",
              "chlorides               0\n",
              "free sulfur dioxide     0\n",
              "total sulfur dioxide    0\n",
              "density                 0\n",
              "pH                      0\n",
              "sulphates               0\n",
              "alcohol                 0\n",
              "quality                 0\n",
              "dtype: int64"
            ]
          },
          "metadata": {
            "tags": []
          },
          "execution_count": 24
        }
      ]
    },
    {
      "cell_type": "code",
      "metadata": {
        "id": "uyEj0rijBSv8",
        "colab_type": "code",
        "colab": {}
      },
      "source": [
        "# Data does not contain any null values "
      ],
      "execution_count": 0,
      "outputs": []
    },
    {
      "cell_type": "code",
      "metadata": {
        "id": "ENOhGax-BWVo",
        "colab_type": "code",
        "outputId": "aafc9ef8-e6a8-4b9a-e345-7096ea64a763",
        "colab": {
          "base_uri": "https://localhost:8080/",
          "height": 235
        }
      },
      "source": [
        "## Finding null percentage values for our dataset\n",
        "\n",
        "((wine.isna().sum()/len(wine))*100).round(2)\n"
      ],
      "execution_count": 26,
      "outputs": [
        {
          "output_type": "execute_result",
          "data": {
            "text/plain": [
              "fixed acidity           0.0\n",
              "volatile acidity        0.0\n",
              "citric acid             0.0\n",
              "residual sugar          0.0\n",
              "chlorides               0.0\n",
              "free sulfur dioxide     0.0\n",
              "total sulfur dioxide    0.0\n",
              "density                 0.0\n",
              "pH                      0.0\n",
              "sulphates               0.0\n",
              "alcohol                 0.0\n",
              "quality                 0.0\n",
              "dtype: float64"
            ]
          },
          "metadata": {
            "tags": []
          },
          "execution_count": 26
        }
      ]
    },
    {
      "cell_type": "code",
      "metadata": {
        "id": "60jmdjikBe6B",
        "colab_type": "code",
        "colab": {}
      },
      "source": [
        "## It is 0.0 for all columns\n",
        "## No null values present in our dataset\n"
      ],
      "execution_count": 0,
      "outputs": []
    },
    {
      "cell_type": "code",
      "metadata": {
        "id": "kSDJxGqCBkPL",
        "colab_type": "code",
        "outputId": "6b37dffa-9d17-4234-fd6a-5dfc71e13583",
        "colab": {
          "base_uri": "https://localhost:8080/",
          "height": 34
        }
      },
      "source": [
        "wine.columns.size"
      ],
      "execution_count": 28,
      "outputs": [
        {
          "output_type": "execute_result",
          "data": {
            "text/plain": [
              "12"
            ]
          },
          "metadata": {
            "tags": []
          },
          "execution_count": 28
        }
      ]
    },
    {
      "cell_type": "code",
      "metadata": {
        "id": "a69bvME5BnwU",
        "colab_type": "code",
        "colab": {}
      },
      "source": [
        "## Our dataset has 12 columns\n",
        "\n",
        "# 11 Independent variables\n",
        "# 1 Target/Dependet Variable"
      ],
      "execution_count": 0,
      "outputs": []
    },
    {
      "cell_type": "code",
      "metadata": {
        "id": "5ju9otSoByR5",
        "colab_type": "code",
        "colab": {}
      },
      "source": [
        ""
      ],
      "execution_count": 0,
      "outputs": []
    },
    {
      "cell_type": "code",
      "metadata": {
        "id": "rKA_znHqB9ci",
        "colab_type": "code",
        "colab": {}
      },
      "source": [
        "# Checking value_counts() for all columns in our dataset:"
      ],
      "execution_count": 0,
      "outputs": []
    },
    {
      "cell_type": "code",
      "metadata": {
        "id": "G69_q-L0B-fC",
        "colab_type": "code",
        "outputId": "bd7c87ce-bebc-4e80-b1c4-7cdfe8feaa21",
        "colab": {
          "base_uri": "https://localhost:8080/",
          "height": 1000
        }
      },
      "source": [
        "# value_counts() for columns[0:6]\n",
        "\n",
        "for col in wine.columns[:6]:\n",
        "  print(\"Column is : \" + col)\n",
        "  print(wine[col].value_counts())\n",
        "  print()\n",
        "  print()"
      ],
      "execution_count": 31,
      "outputs": [
        {
          "output_type": "stream",
          "text": [
            "Column is : fixed acidity\n",
            "6.80     241\n",
            "6.60     238\n",
            "6.40     224\n",
            "6.90     191\n",
            "6.70     190\n",
            "        ... \n",
            "10.70      1\n",
            "4.60       1\n",
            "3.90       1\n",
            "6.45       1\n",
            "3.80       1\n",
            "Name: fixed acidity, Length: 68, dtype: int64\n",
            "\n",
            "\n",
            "Column is : volatile acidity\n",
            "0.280    213\n",
            "0.240    208\n",
            "0.260    207\n",
            "0.250    179\n",
            "0.220    178\n",
            "        ... \n",
            "1.100      1\n",
            "0.910      1\n",
            "0.710      1\n",
            "0.740      1\n",
            "0.785      1\n",
            "Name: volatile acidity, Length: 125, dtype: int64\n",
            "\n",
            "\n",
            "Column is : citric acid\n",
            "0.30    239\n",
            "0.28    220\n",
            "0.32    214\n",
            "0.34    181\n",
            "0.29    179\n",
            "       ... \n",
            "1.66      1\n",
            "0.11      1\n",
            "0.86      1\n",
            "0.99      1\n",
            "0.91      1\n",
            "Name: citric acid, Length: 87, dtype: int64\n",
            "\n",
            "\n",
            "Column is : residual sugar\n",
            "1.40     165\n",
            "1.20     165\n",
            "1.60     144\n",
            "1.30     134\n",
            "1.10     126\n",
            "        ... \n",
            "16.60      1\n",
            "20.30      1\n",
            "15.90      1\n",
            "13.15      1\n",
            "65.80      1\n",
            "Name: residual sugar, Length: 310, dtype: int64\n",
            "\n",
            "\n",
            "Column is : chlorides\n",
            "0.036    165\n",
            "0.042    155\n",
            "0.044    155\n",
            "0.046    152\n",
            "0.040    152\n",
            "        ... \n",
            "0.120      1\n",
            "0.012      1\n",
            "0.346      1\n",
            "0.144      1\n",
            "0.184      1\n",
            "Name: chlorides, Length: 160, dtype: int64\n",
            "\n",
            "\n",
            "Column is : free sulfur dioxide\n",
            "29.0     125\n",
            "31.0     110\n",
            "34.0     107\n",
            "26.0     105\n",
            "36.0     102\n",
            "        ... \n",
            "124.0      1\n",
            "110.0      1\n",
            "19.5       1\n",
            "86.0       1\n",
            "118.5      1\n",
            "Name: free sulfur dioxide, Length: 132, dtype: int64\n",
            "\n",
            "\n"
          ],
          "name": "stdout"
        }
      ]
    },
    {
      "cell_type": "code",
      "metadata": {
        "id": "iSxIgrnYCCFe",
        "colab_type": "code",
        "outputId": "d9b84212-57a6-4a87-ffe4-c582b6a0e19b",
        "colab": {
          "base_uri": "https://localhost:8080/",
          "height": 1000
        }
      },
      "source": [
        "# value_counts() for columns[6:12]\n",
        "\n",
        "for col in wine.columns[6:]:\n",
        "  print(\"Column is : \" + col)\n",
        "  print(wine[col].value_counts())\n",
        "  print()\n",
        "  print()"
      ],
      "execution_count": 32,
      "outputs": [
        {
          "output_type": "stream",
          "text": [
            "Column is : total sulfur dioxide\n",
            "111.0    51\n",
            "114.0    47\n",
            "113.0    46\n",
            "122.0    45\n",
            "128.0    45\n",
            "         ..\n",
            "25.0      1\n",
            "256.0     1\n",
            "48.0      1\n",
            "26.0      1\n",
            "219.5     1\n",
            "Name: total sulfur dioxide, Length: 251, dtype: int64\n",
            "\n",
            "\n",
            "Column is : density\n",
            "0.99200    60\n",
            "0.99280    52\n",
            "0.99320    49\n",
            "0.99340    46\n",
            "0.99300    46\n",
            "           ..\n",
            "0.99507     1\n",
            "0.99615     1\n",
            "0.99055     1\n",
            "0.99485     1\n",
            "0.99341     1\n",
            "Name: density, Length: 890, dtype: int64\n",
            "\n",
            "\n",
            "Column is : pH\n",
            "3.16    128\n",
            "3.14    127\n",
            "3.22    119\n",
            "3.19    115\n",
            "3.15    114\n",
            "       ... \n",
            "3.67      1\n",
            "2.74      1\n",
            "3.82      1\n",
            "2.82      1\n",
            "2.84      1\n",
            "Name: pH, Length: 103, dtype: int64\n",
            "\n",
            "\n",
            "Column is : sulphates\n",
            "0.50    191\n",
            "0.46    182\n",
            "0.44    171\n",
            "0.38    165\n",
            "0.45    148\n",
            "       ... \n",
            "0.99      1\n",
            "0.89      1\n",
            "1.00      1\n",
            "0.97      1\n",
            "0.23      1\n",
            "Name: sulphates, Length: 79, dtype: int64\n",
            "\n",
            "\n",
            "Column is : alcohol\n",
            "9.500000     177\n",
            "9.400000     169\n",
            "10.000000    143\n",
            "9.200000     140\n",
            "10.500000    140\n",
            "            ... \n",
            "10.650000      1\n",
            "10.033333      1\n",
            "9.633333       1\n",
            "10.933333      1\n",
            "11.433333      1\n",
            "Name: alcohol, Length: 103, dtype: int64\n",
            "\n",
            "\n",
            "Column is : quality\n",
            "6    1788\n",
            "5    1175\n",
            "7     689\n",
            "4     153\n",
            "8     131\n",
            "3      20\n",
            "9       5\n",
            "Name: quality, dtype: int64\n",
            "\n",
            "\n"
          ],
          "name": "stdout"
        }
      ]
    },
    {
      "cell_type": "code",
      "metadata": {
        "id": "PpAVMPtZCMdx",
        "colab_type": "code",
        "colab": {}
      },
      "source": [
        "## Quality is an integer in range (1-10)"
      ],
      "execution_count": 0,
      "outputs": []
    },
    {
      "cell_type": "code",
      "metadata": {
        "id": "GQIHjjDACf4D",
        "colab_type": "code",
        "colab": {}
      },
      "source": [
        "## Analysis of the target variable"
      ],
      "execution_count": 0,
      "outputs": []
    },
    {
      "cell_type": "code",
      "metadata": {
        "id": "_A9fIFQ8DF-B",
        "colab_type": "code",
        "outputId": "7aa2123b-e82b-43a7-d648-d169369f5904",
        "colab": {
          "base_uri": "https://localhost:8080/",
          "height": 518
        }
      },
      "source": [
        "# Plot to visualize the target variable in the dataset:\n",
        "\n",
        "sns.set(style=\"darkgrid\")\n",
        "\n",
        "plt.figure(figsize=(10,8))\n",
        "ax = sns.countplot(x=\"quality\", data=wine)\n",
        "plt.title('Distribution of target variable')\n",
        "plt.xlabel('Wine Quality')\n",
        "plt.ylabel('Frequency')\n",
        "\n",
        "for p in ax.patches:\n",
        "        ax.annotate('{:.0f}'.format(p.get_height()), (p.get_x()+0.1, p.get_height()+50))"
      ],
      "execution_count": 35,
      "outputs": [
        {
          "output_type": "display_data",
          "data": {
            "image/png": "[encoded data removed]",
            "text/plain": [
              "<Figure size 720x576 with 1 Axes>"
            ]
          },
          "metadata": {
            "tags": []
          }
        }
      ]
    },
    {
      "cell_type": "code",
      "metadata": {
        "id": "hZ74R5aADQvk",
        "colab_type": "code",
        "colab": {}
      },
      "source": [
        "## Above diagram shows distribution of target variable for entire dataset"
      ],
      "execution_count": 0,
      "outputs": []
    },
    {
      "cell_type": "code",
      "metadata": {
        "id": "vJgv0Yk-DlAn",
        "colab_type": "code",
        "outputId": "20f9356d-9887-4a9f-fe18-1efc3fa66359",
        "colab": {
          "base_uri": "https://localhost:8080/",
          "height": 394
        }
      },
      "source": [
        "# Another plot of the TARGET variable \"Converted\"\n",
        "\n",
        "sns.set(style=\"darkgrid\")\n",
        "plt.figure(figsize = (12, 6))\n",
        "sns.violinplot(x = wine[\"quality\"])\n",
        "plt.show()"
      ],
      "execution_count": 37,
      "outputs": [
        {
          "output_type": "display_data",
          "data": {
            "image/png": "[encoded data removed]",
            "text/plain": [
              "<Figure size 864x432 with 1 Axes>"
            ]
          },
          "metadata": {
            "tags": []
          }
        }
      ]
    },
    {
      "cell_type": "code",
      "metadata": {
        "id": "snwtlf3lDt9C",
        "colab_type": "code",
        "colab": {}
      },
      "source": [
        "## Violin plot for the target varibles distribution"
      ],
      "execution_count": 0,
      "outputs": []
    },
    {
      "cell_type": "code",
      "metadata": {
        "id": "j_GNSeOODynX",
        "colab_type": "code",
        "colab": {}
      },
      "source": [
        "## Data can be said to be imbalanced towards quality value '6'"
      ],
      "execution_count": 0,
      "outputs": []
    },
    {
      "cell_type": "code",
      "metadata": {
        "id": "0PeGq1_DD-Wp",
        "colab_type": "code",
        "colab": {}
      },
      "source": [
        ""
      ],
      "execution_count": 0,
      "outputs": []
    },
    {
      "cell_type": "code",
      "metadata": {
        "id": "ybD2nhFGD7Iq",
        "colab_type": "code",
        "colab": {}
      },
      "source": [
        "## Outlier detection in our dataset\n",
        "\n",
        "# Using boxplots to identify potential outliers in our dataset\n"
      ],
      "execution_count": 0,
      "outputs": []
    },
    {
      "cell_type": "code",
      "metadata": {
        "id": "78imUGoQEC11",
        "colab_type": "code",
        "outputId": "e27b5a4d-9739-479f-fad8-efa71a87a400",
        "colab": {
          "base_uri": "https://localhost:8080/",
          "height": 34
        }
      },
      "source": [
        "# Count of numeric columns in our dataset\n",
        "wine.select_dtypes(include = [\"float64\"]).columns.size"
      ],
      "execution_count": 41,
      "outputs": [
        {
          "output_type": "execute_result",
          "data": {
            "text/plain": [
              "11"
            ]
          },
          "metadata": {
            "tags": []
          },
          "execution_count": 41
        }
      ]
    },
    {
      "cell_type": "code",
      "metadata": {
        "id": "CKJGTbC1ELZy",
        "colab_type": "code",
        "colab": {}
      },
      "source": [
        "## All columns are numeric in nature \n",
        "## No categorical columns"
      ],
      "execution_count": 0,
      "outputs": []
    },
    {
      "cell_type": "code",
      "metadata": {
        "id": "eS30o4lQEEOs",
        "colab_type": "code",
        "colab": {}
      },
      "source": [
        "# Creating numeric_col list to include all numeric columns from out dataset\n",
        "numeric_columns = wine.select_dtypes(include = [\"float64\"]).columns"
      ],
      "execution_count": 0,
      "outputs": []
    },
    {
      "cell_type": "code",
      "metadata": {
        "id": "J8sKfXFTEEJR",
        "colab_type": "code",
        "outputId": "534446da-7001-4a7c-ea0a-f266c2458b8d",
        "colab": {
          "base_uri": "https://localhost:8080/",
          "height": 84
        }
      },
      "source": [
        "numeric_columns\n",
        "# Does not include \"quality\" as it is the target variable"
      ],
      "execution_count": 44,
      "outputs": [
        {
          "output_type": "execute_result",
          "data": {
            "text/plain": [
              "Index(['fixed acidity', 'volatile acidity', 'citric acid', 'residual sugar',\n",
              "       'chlorides', 'free sulfur dioxide', 'total sulfur dioxide', 'density',\n",
              "       'pH', 'sulphates', 'alcohol'],\n",
              "      dtype='object')"
            ]
          },
          "metadata": {
            "tags": []
          },
          "execution_count": 44
        }
      ]
    },
    {
      "cell_type": "code",
      "metadata": {
        "id": "e7RhWjp9EEIq",
        "colab_type": "code",
        "colab": {}
      },
      "source": [
        "# Visualization for outlier detection in our data\n",
        "sns.set( palette = \"muted\")"
      ],
      "execution_count": 0,
      "outputs": []
    },
    {
      "cell_type": "code",
      "metadata": {
        "id": "0JwJ8L6mEEDu",
        "colab_type": "code",
        "outputId": "2f47e40a-d208-41f1-fc9b-dee49dc63f22",
        "colab": {
          "base_uri": "https://localhost:8080/",
          "height": 1000
        }
      },
      "source": [
        "# Loop to visualize boxplots of numeric_columns[0:6] in our dataset:\n",
        "\n",
        "for col in numeric_columns[:6]:\n",
        "    plt.figure( figsize = (9, 5))\n",
        "    sns.boxplot(x=wine[col], width = 0.3)\n",
        "    plt.title(\"\\\" \"+ col + \"\\\" \" + \" in Wine Quality data\")\n",
        "    plt.xlabel(\"Column is : \" + col)\n",
        "    plt.show()\n",
        "    print()\n",
        "    print()"
      ],
      "execution_count": 46,
      "outputs": [
        {
          "output_type": "display_data",
          "data": {
            "image/png": "[encoded data removed]",
            "text/plain": [
              "<Figure size 648x360 with 1 Axes>"
            ]
          },
          "metadata": {
            "tags": []
          }
        },
        {
          "output_type": "stream",
          "text": [
            "\n",
            "\n"
          ],
          "name": "stdout"
        },
        {
          "output_type": "display_data",
          "data": {
            "image/png": "[encoded data removed]",
            "text/plain": [
              "<Figure size 648x360 with 1 Axes>"
            ]
          },
          "metadata": {
            "tags": []
          }
        },
        {
          "output_type": "stream",
          "text": [
            "\n",
            "\n"
          ],
          "name": "stdout"
        },
        {
          "output_type": "display_data",
          "data": {
            "image/png": "[encoded data removed]",
            "text/plain": [
              "<Figure size 648x360 with 1 Axes>"
            ]
          },
          "metadata": {
            "tags": []
          }
        },
        {
          "output_type": "stream",
          "text": [
            "\n",
            "\n"
          ],
          "name": "stdout"
        },
        {
          "output_type": "display_data",
          "data": {
            "image/png": "[encoded data removed]",
            "text/plain": [
              "<Figure size 648x360 with 1 Axes>"
            ]
          },
          "metadata": {
            "tags": []
          }
        },
        {
          "output_type": "stream",
          "text": [
            "\n",
            "\n"
          ],
          "name": "stdout"
        },
        {
          "output_type": "display_data",
          "data": {
            "image/png": "[encoded data removed]",
            "text/plain": [
              "<Figure size 648x360 with 1 Axes>"
            ]
          },
          "metadata": {
            "tags": []
          }
        },
        {
          "output_type": "stream",
          "text": [
            "\n",
            "\n"
          ],
          "name": "stdout"
        },
        {
          "output_type": "display_data",
          "data": {
            "image/png": "[encoded data removed]",
            "text/plain": [
              "<Figure size 648x360 with 1 Axes>"
            ]
          },
          "metadata": {
            "tags": []
          }
        },
        {
          "output_type": "stream",
          "text": [
            "\n",
            "\n"
          ],
          "name": "stdout"
        }
      ]
    },
    {
      "cell_type": "code",
      "metadata": {
        "id": "pCXZSiqzEEDD",
        "colab_type": "code",
        "outputId": "f81fcf1c-84dc-4309-ad76-553347760ac2",
        "colab": {
          "base_uri": "https://localhost:8080/",
          "height": 1000
        }
      },
      "source": [
        "# Loop to visualize boxplots of numeric_columns[6:] in our dataset:\n",
        "\n",
        "for col in numeric_columns[6:]:\n",
        "    plt.figure( figsize = (9, 5))\n",
        "    sns.boxplot(x=wine[col], width = 0.3)\n",
        "    plt.title(\"\\\" \"+ col + \"\\\" \" + \" in Wine Quality data\")\n",
        "    plt.xlabel(\"Column is : \" + col)\n",
        "    plt.show()\n",
        "    print()\n",
        "    print()"
      ],
      "execution_count": 47,
      "outputs": [
        {
          "output_type": "display_data",
          "data": {
            "image/png": "[encoded data removed]",
            "text/plain": [
              "<Figure size 648x360 with 1 Axes>"
            ]
          },
          "metadata": {
            "tags": []
          }
        },
        {
          "output_type": "stream",
          "text": [
            "\n",
            "\n"
          ],
          "name": "stdout"
        },
        {
          "output_type": "display_data",
          "data": {
            "image/png": "[encoded data removed]",
            "text/plain": [
              "<Figure size 648x360 with 1 Axes>"
            ]
          },
          "metadata": {
            "tags": []
          }
        },
        {
          "output_type": "stream",
          "text": [
            "\n",
            "\n"
          ],
          "name": "stdout"
        },
        {
          "output_type": "display_data",
          "data": {
            "image/png": "[encoded data removed]",
            "text/plain": [
              "<Figure size 648x360 with 1 Axes>"
            ]
          },
          "metadata": {
            "tags": []
          }
        },
        {
          "output_type": "stream",
          "text": [
            "\n",
            "\n"
          ],
          "name": "stdout"
        },
        {
          "output_type": "display_data",
          "data": {
            "image/png": "[encoded data removed]",
            "text/plain": [
              "<Figure size 648x360 with 1 Axes>"
            ]
          },
          "metadata": {
            "tags": []
          }
        },
        {
          "output_type": "stream",
          "text": [
            "\n",
            "\n"
          ],
          "name": "stdout"
        },
        {
          "output_type": "display_data",
          "data": {
            "image/png": "[encoded data removed]",
            "text/plain": [
              "<Figure size 648x360 with 1 Axes>"
            ]
          },
          "metadata": {
            "tags": []
          }
        },
        {
          "output_type": "stream",
          "text": [
            "\n",
            "\n"
          ],
          "name": "stdout"
        }
      ]
    },
    {
      "cell_type": "code",
      "metadata": {
        "id": "ILBYFM4PED-m",
        "colab_type": "code",
        "colab": {}
      },
      "source": [
        ""
      ],
      "execution_count": 0,
      "outputs": []
    },
    {
      "cell_type": "code",
      "metadata": {
        "id": "wkHAW5cUED-A",
        "colab_type": "code",
        "colab": {}
      },
      "source": [
        "## More visualizations"
      ],
      "execution_count": 0,
      "outputs": []
    },
    {
      "cell_type": "code",
      "metadata": {
        "id": "o3KkfSHGED47",
        "colab_type": "code",
        "outputId": "1e4e585b-e3f1-4a66-c600-0ac39ac05803",
        "colab": {
          "base_uri": "https://localhost:8080/",
          "height": 34
        }
      },
      "source": [
        "numeric_columns.size"
      ],
      "execution_count": 49,
      "outputs": [
        {
          "output_type": "execute_result",
          "data": {
            "text/plain": [
              "11"
            ]
          },
          "metadata": {
            "tags": []
          },
          "execution_count": 49
        }
      ]
    },
    {
      "cell_type": "code",
      "metadata": {
        "id": "VwrhCwIcEDzZ",
        "colab_type": "code",
        "colab": {}
      },
      "source": [
        "# Function to analyze columns in the dataset:\n",
        "\n",
        "def distplot_of_columns(column):    \n",
        "    # Plot without default status\n",
        "    plt.figure(figsize = (10, 5))\n",
        "    sns.distplot(a = wine.loc[wine[column].notnull(), column], hist = True, kde = False)\n",
        "    plt.title(column)\n",
        "    plt.xlabel(\"\")\n",
        "    plt.ylabel(\"\")"
      ],
      "execution_count": 0,
      "outputs": []
    },
    {
      "cell_type": "code",
      "metadata": {
        "id": "7bj3jhfNEDyz",
        "colab_type": "code",
        "outputId": "88313aaa-f842-4d3a-d3b0-31ef31e5a48f",
        "colab": {
          "base_uri": "https://localhost:8080/",
          "height": 1000
        }
      },
      "source": [
        "## Plots of various columns:\n",
        "\n",
        "for column in numeric_columns[0:5]: \n",
        "  plt.figure(figsize= (10, 3))\n",
        "  distplot_of_columns(column)\n",
        "  plt.show()\n",
        "  print()\n",
        "  print()"
      ],
      "execution_count": 51,
      "outputs": [
        {
          "output_type": "display_data",
          "data": {
            "text/plain": [
              "<Figure size 720x216 with 0 Axes>"
            ]
          },
          "metadata": {
            "tags": []
          }
        },
        {
          "output_type": "display_data",
          "data": {
            "image/png": "[encoded data removed]",
            "text/plain": [
              "<Figure size 720x360 with 1 Axes>"
            ]
          },
          "metadata": {
            "tags": []
          }
        },
        {
          "output_type": "stream",
          "text": [
            "\n",
            "\n"
          ],
          "name": "stdout"
        },
        {
          "output_type": "display_data",
          "data": {
            "text/plain": [
              "<Figure size 720x216 with 0 Axes>"
            ]
          },
          "metadata": {
            "tags": []
          }
        },
        {
          "output_type": "display_data",
          "data": {
            "image/png": "[encoded data removed]",
            "text/plain": [
              "<Figure size 720x360 with 1 Axes>"
            ]
          },
          "metadata": {
            "tags": []
          }
        },
        {
          "output_type": "stream",
          "text": [
            "\n",
            "\n"
          ],
          "name": "stdout"
        },
        {
          "output_type": "display_data",
          "data": {
            "text/plain": [
              "<Figure size 720x216 with 0 Axes>"
            ]
          },
          "metadata": {
            "tags": []
          }
        },
        {
          "output_type": "display_data",
          "data": {
            "image/png": "[encoded data removed]",
            "text/plain": [
              "<Figure size 720x360 with 1 Axes>"
            ]
          },
          "metadata": {
            "tags": []
          }
        },
        {
          "output_type": "stream",
          "text": [
            "\n",
            "\n"
          ],
          "name": "stdout"
        },
        {
          "output_type": "display_data",
          "data": {
            "text/plain": [
              "<Figure size 720x216 with 0 Axes>"
            ]
          },
          "metadata": {
            "tags": []
          }
        },
        {
          "output_type": "display_data",
          "data": {
            "image/png": "[encoded data removed]",
            "text/plain": [
              "<Figure size 720x360 with 1 Axes>"
            ]
          },
          "metadata": {
            "tags": []
          }
        },
        {
          "output_type": "stream",
          "text": [
            "\n",
            "\n"
          ],
          "name": "stdout"
        },
        {
          "output_type": "display_data",
          "data": {
            "text/plain": [
              "<Figure size 720x216 with 0 Axes>"
            ]
          },
          "metadata": {
            "tags": []
          }
        },
        {
          "output_type": "display_data",
          "data": {
            "image/png": "[encoded data removed]",
            "text/plain": [
              "<Figure size 720x360 with 1 Axes>"
            ]
          },
          "metadata": {
            "tags": []
          }
        },
        {
          "output_type": "stream",
          "text": [
            "\n",
            "\n"
          ],
          "name": "stdout"
        }
      ]
    },
    {
      "cell_type": "code",
      "metadata": {
        "id": "SZvYglX4EDre",
        "colab_type": "code",
        "outputId": "7aaff414-bea5-4fa4-9995-6d3f4639af09",
        "colab": {
          "base_uri": "https://localhost:8080/",
          "height": 1000
        }
      },
      "source": [
        "## Plots of various columns:\n",
        "\n",
        "for column in numeric_columns[5:]: \n",
        "  plt.figure(figsize= (10, 3))\n",
        "  distplot_of_columns(column)\n",
        "  plt.show()\n",
        "  print()\n",
        "  print()"
      ],
      "execution_count": 52,
      "outputs": [
        {
          "output_type": "display_data",
          "data": {
            "text/plain": [
              "<Figure size 720x216 with 0 Axes>"
            ]
          },
          "metadata": {
            "tags": []
          }
        },
        {
          "output_type": "display_data",
          "data": {
            "image/png": "[encoded data removed]",
            "text/plain": [
              "<Figure size 720x360 with 1 Axes>"
            ]
          },
          "metadata": {
            "tags": []
          }
        },
        {
          "output_type": "stream",
          "text": [
            "\n",
            "\n"
          ],
          "name": "stdout"
        },
        {
          "output_type": "display_data",
          "data": {
            "text/plain": [
              "<Figure size 720x216 with 0 Axes>"
            ]
          },
          "metadata": {
            "tags": []
          }
        },
        {
          "output_type": "display_data",
          "data": {
            "image/png": "[encoded data removed]",
            "text/plain": [
              "<Figure size 720x360 with 1 Axes>"
            ]
          },
          "metadata": {
            "tags": []
          }
        },
        {
          "output_type": "stream",
          "text": [
            "\n",
            "\n"
          ],
          "name": "stdout"
        },
        {
          "output_type": "display_data",
          "data": {
            "text/plain": [
              "<Figure size 720x216 with 0 Axes>"
            ]
          },
          "metadata": {
            "tags": []
          }
        },
        {
          "output_type": "display_data",
          "data": {
            "image/png": "[encoded data removed]",
            "text/plain": [
              "<Figure size 720x360 with 1 Axes>"
            ]
          },
          "metadata": {
            "tags": []
          }
        },
        {
          "output_type": "stream",
          "text": [
            "\n",
            "\n"
          ],
          "name": "stdout"
        },
        {
          "output_type": "display_data",
          "data": {
            "text/plain": [
              "<Figure size 720x216 with 0 Axes>"
            ]
          },
          "metadata": {
            "tags": []
          }
        },
        {
          "output_type": "display_data",
          "data": {
            "image/png": "[encoded data removed]",
            "text/plain": [
              "<Figure size 720x360 with 1 Axes>"
            ]
          },
          "metadata": {
            "tags": []
          }
        },
        {
          "output_type": "stream",
          "text": [
            "\n",
            "\n"
          ],
          "name": "stdout"
        },
        {
          "output_type": "display_data",
          "data": {
            "text/plain": [
              "<Figure size 720x216 with 0 Axes>"
            ]
          },
          "metadata": {
            "tags": []
          }
        },
        {
          "output_type": "display_data",
          "data": {
            "image/png": "[encoded data removed]",
            "text/plain": [
              "<Figure size 720x360 with 1 Axes>"
            ]
          },
          "metadata": {
            "tags": []
          }
        },
        {
          "output_type": "stream",
          "text": [
            "\n",
            "\n"
          ],
          "name": "stdout"
        },
        {
          "output_type": "display_data",
          "data": {
            "text/plain": [
              "<Figure size 720x216 with 0 Axes>"
            ]
          },
          "metadata": {
            "tags": []
          }
        },
        {
          "output_type": "display_data",
          "data": {
            "image/png": "[encoded data removed]",
            "text/plain": [
              "<Figure size 720x360 with 1 Axes>"
            ]
          },
          "metadata": {
            "tags": []
          }
        },
        {
          "output_type": "stream",
          "text": [
            "\n",
            "\n"
          ],
          "name": "stdout"
        }
      ]
    },
    {
      "cell_type": "code",
      "metadata": {
        "id": "a7XqUWiuuz-n",
        "colab_type": "code",
        "outputId": "ead41db9-abe9-4ee2-f1a8-75a97c4e0e6b",
        "colab": {
          "base_uri": "https://localhost:8080/",
          "height": 436
        }
      },
      "source": [
        "## Correlation matrix for the data:\n",
        "wine.corr()"
      ],
      "execution_count": 53,
      "outputs": [
        {
          "output_type": "execute_result",
          "data": {
            "text/html": [
              "<div>\n",
              "<style scoped>\n",
              "    .dataframe tbody tr th:only-of-type {\n",
              "        vertical-align: middle;\n",
              "    }\n",
              "\n",
              "    .dataframe tbody tr th {\n",
              "        vertical-align: top;\n",
              "    }\n",
              "\n",
              "    .dataframe thead th {\n",
              "        text-align: right;\n",
              "    }\n",
              "</style>\n",
              "<table border=\"1\" class=\"dataframe\">\n",
              "  <thead>\n",
              "    <tr style=\"text-align: right;\">\n",
              "      <th></th>\n",
              "      <th>fixed acidity</th>\n",
              "      <th>volatile acidity</th>\n",
              "      <th>citric acid</th>\n",
              "      <th>residual sugar</th>\n",
              "      <th>chlorides</th>\n",
              "      <th>free sulfur dioxide</th>\n",
              "      <th>total sulfur dioxide</th>\n",
              "      <th>density</th>\n",
              "      <th>pH</th>\n",
              "      <th>sulphates</th>\n",
              "      <th>alcohol</th>\n",
              "      <th>quality</th>\n",
              "    </tr>\n",
              "  </thead>\n",
              "  <tbody>\n",
              "    <tr>\n",
              "      <th>fixed acidity</th>\n",
              "      <td>1.000000</td>\n",
              "      <td>-0.019214</td>\n",
              "      <td>0.298959</td>\n",
              "      <td>0.083620</td>\n",
              "      <td>0.024036</td>\n",
              "      <td>-0.058396</td>\n",
              "      <td>0.082425</td>\n",
              "      <td>0.266091</td>\n",
              "      <td>-0.431274</td>\n",
              "      <td>-0.017453</td>\n",
              "      <td>-0.110788</td>\n",
              "      <td>-0.124636</td>\n",
              "    </tr>\n",
              "    <tr>\n",
              "      <th>volatile acidity</th>\n",
              "      <td>-0.019214</td>\n",
              "      <td>1.000000</td>\n",
              "      <td>-0.163228</td>\n",
              "      <td>0.098340</td>\n",
              "      <td>0.086287</td>\n",
              "      <td>-0.102471</td>\n",
              "      <td>0.102315</td>\n",
              "      <td>0.060603</td>\n",
              "      <td>-0.046954</td>\n",
              "      <td>-0.021150</td>\n",
              "      <td>0.046815</td>\n",
              "      <td>-0.190678</td>\n",
              "    </tr>\n",
              "    <tr>\n",
              "      <th>citric acid</th>\n",
              "      <td>0.298959</td>\n",
              "      <td>-0.163228</td>\n",
              "      <td>1.000000</td>\n",
              "      <td>0.106269</td>\n",
              "      <td>0.132590</td>\n",
              "      <td>0.091681</td>\n",
              "      <td>0.122845</td>\n",
              "      <td>0.160076</td>\n",
              "      <td>-0.183015</td>\n",
              "      <td>0.049442</td>\n",
              "      <td>-0.076514</td>\n",
              "      <td>0.007065</td>\n",
              "    </tr>\n",
              "    <tr>\n",
              "      <th>residual sugar</th>\n",
              "      <td>0.083620</td>\n",
              "      <td>0.098340</td>\n",
              "      <td>0.106269</td>\n",
              "      <td>1.000000</td>\n",
              "      <td>0.076091</td>\n",
              "      <td>0.306835</td>\n",
              "      <td>0.409583</td>\n",
              "      <td>0.820498</td>\n",
              "      <td>-0.165997</td>\n",
              "      <td>-0.020503</td>\n",
              "      <td>-0.398167</td>\n",
              "      <td>-0.117339</td>\n",
              "    </tr>\n",
              "    <tr>\n",
              "      <th>chlorides</th>\n",
              "      <td>0.024036</td>\n",
              "      <td>0.086287</td>\n",
              "      <td>0.132590</td>\n",
              "      <td>0.076091</td>\n",
              "      <td>1.000000</td>\n",
              "      <td>0.101272</td>\n",
              "      <td>0.191145</td>\n",
              "      <td>0.253088</td>\n",
              "      <td>-0.090573</td>\n",
              "      <td>0.017871</td>\n",
              "      <td>-0.356928</td>\n",
              "      <td>-0.217739</td>\n",
              "    </tr>\n",
              "    <tr>\n",
              "      <th>free sulfur dioxide</th>\n",
              "      <td>-0.058396</td>\n",
              "      <td>-0.102471</td>\n",
              "      <td>0.091681</td>\n",
              "      <td>0.306835</td>\n",
              "      <td>0.101272</td>\n",
              "      <td>1.000000</td>\n",
              "      <td>0.619437</td>\n",
              "      <td>0.294638</td>\n",
              "      <td>-0.007750</td>\n",
              "      <td>0.037932</td>\n",
              "      <td>-0.251768</td>\n",
              "      <td>0.010507</td>\n",
              "    </tr>\n",
              "    <tr>\n",
              "      <th>total sulfur dioxide</th>\n",
              "      <td>0.082425</td>\n",
              "      <td>0.102315</td>\n",
              "      <td>0.122845</td>\n",
              "      <td>0.409583</td>\n",
              "      <td>0.191145</td>\n",
              "      <td>0.619437</td>\n",
              "      <td>1.000000</td>\n",
              "      <td>0.536868</td>\n",
              "      <td>0.008239</td>\n",
              "      <td>0.136544</td>\n",
              "      <td>-0.446643</td>\n",
              "      <td>-0.183356</td>\n",
              "    </tr>\n",
              "    <tr>\n",
              "      <th>density</th>\n",
              "      <td>0.266091</td>\n",
              "      <td>0.060603</td>\n",
              "      <td>0.160076</td>\n",
              "      <td>0.820498</td>\n",
              "      <td>0.253088</td>\n",
              "      <td>0.294638</td>\n",
              "      <td>0.536868</td>\n",
              "      <td>1.000000</td>\n",
              "      <td>-0.063734</td>\n",
              "      <td>0.082048</td>\n",
              "      <td>-0.760162</td>\n",
              "      <td>-0.337805</td>\n",
              "    </tr>\n",
              "    <tr>\n",
              "      <th>pH</th>\n",
              "      <td>-0.431274</td>\n",
              "      <td>-0.046954</td>\n",
              "      <td>-0.183015</td>\n",
              "      <td>-0.165997</td>\n",
              "      <td>-0.090573</td>\n",
              "      <td>-0.007750</td>\n",
              "      <td>0.008239</td>\n",
              "      <td>-0.063734</td>\n",
              "      <td>1.000000</td>\n",
              "      <td>0.142353</td>\n",
              "      <td>0.093095</td>\n",
              "      <td>0.123829</td>\n",
              "    </tr>\n",
              "    <tr>\n",
              "      <th>sulphates</th>\n",
              "      <td>-0.017453</td>\n",
              "      <td>-0.021150</td>\n",
              "      <td>0.049442</td>\n",
              "      <td>-0.020503</td>\n",
              "      <td>0.017871</td>\n",
              "      <td>0.037932</td>\n",
              "      <td>0.136544</td>\n",
              "      <td>0.082048</td>\n",
              "      <td>0.142353</td>\n",
              "      <td>1.000000</td>\n",
              "      <td>-0.022850</td>\n",
              "      <td>0.053200</td>\n",
              "    </tr>\n",
              "    <tr>\n",
              "      <th>alcohol</th>\n",
              "      <td>-0.110788</td>\n",
              "      <td>0.046815</td>\n",
              "      <td>-0.076514</td>\n",
              "      <td>-0.398167</td>\n",
              "      <td>-0.356928</td>\n",
              "      <td>-0.251768</td>\n",
              "      <td>-0.446643</td>\n",
              "      <td>-0.760162</td>\n",
              "      <td>0.093095</td>\n",
              "      <td>-0.022850</td>\n",
              "      <td>1.000000</td>\n",
              "      <td>0.462869</td>\n",
              "    </tr>\n",
              "    <tr>\n",
              "      <th>quality</th>\n",
              "      <td>-0.124636</td>\n",
              "      <td>-0.190678</td>\n",
              "      <td>0.007065</td>\n",
              "      <td>-0.117339</td>\n",
              "      <td>-0.217739</td>\n",
              "      <td>0.010507</td>\n",
              "      <td>-0.183356</td>\n",
              "      <td>-0.337805</td>\n",
              "      <td>0.123829</td>\n",
              "      <td>0.053200</td>\n",
              "      <td>0.462869</td>\n",
              "      <td>1.000000</td>\n",
              "    </tr>\n",
              "  </tbody>\n",
              "</table>\n",
              "</div>"
            ],
            "text/plain": [
              "                      fixed acidity  volatile acidity  ...   alcohol   quality\n",
              "fixed acidity              1.000000         -0.019214  ... -0.110788 -0.124636\n",
              "volatile acidity          -0.019214          1.000000  ...  0.046815 -0.190678\n",
              "citric acid                0.298959         -0.163228  ... -0.076514  0.007065\n",
              "residual sugar             0.083620          0.098340  ... -0.398167 -0.117339\n",
              "chlorides                  0.024036          0.086287  ... -0.356928 -0.217739\n",
              "free sulfur dioxide       -0.058396         -0.102471  ... -0.251768  0.010507\n",
              "total sulfur dioxide       0.082425          0.102315  ... -0.446643 -0.183356\n",
              "density                    0.266091          0.060603  ... -0.760162 -0.337805\n",
              "pH                        -0.431274         -0.046954  ...  0.093095  0.123829\n",
              "sulphates                 -0.017453         -0.021150  ... -0.022850  0.053200\n",
              "alcohol                   -0.110788          0.046815  ...  1.000000  0.462869\n",
              "quality                   -0.124636         -0.190678  ...  0.462869  1.000000\n",
              "\n",
              "[12 rows x 12 columns]"
            ]
          },
          "metadata": {
            "tags": []
          },
          "execution_count": 53
        }
      ]
    },
    {
      "cell_type": "code",
      "metadata": {
        "id": "oHWeA99YvCmV",
        "colab_type": "code",
        "outputId": "d82ec564-140f-49f4-e1da-44c5e2324edc",
        "colab": {
          "base_uri": "https://localhost:8080/",
          "height": 474
        }
      },
      "source": [
        "## Heatmap for the corelation values above\n",
        "plt.figure(figsize = (6, 6))\n",
        "sns.heatmap(wine.corr(), cmap=sns.diverging_palette(20, 220, n=200))\n",
        "plt.show()"
      ],
      "execution_count": 54,
      "outputs": [
        {
          "output_type": "display_data",
          "data": {
            "image/png": "[encoded data removed]",
            "text/plain": [
              "<Figure size 432x432 with 2 Axes>"
            ]
          },
          "metadata": {
            "tags": []
          }
        }
      ]
    },
    {
      "cell_type": "code",
      "metadata": {
        "id": "I03RCtIUvTD-",
        "colab_type": "code",
        "colab": {}
      },
      "source": [
        "## A few columns can be seen to have have colinearity:\n",
        "## we need to find those columns with their correlation values\n"
      ],
      "execution_count": 0,
      "outputs": []
    },
    {
      "cell_type": "code",
      "metadata": {
        "id": "nj_6DIjSvnbP",
        "colab_type": "code",
        "colab": {}
      },
      "source": [
        "def get_redundant_pairs(df):\n",
        "    pairs_to_drop = set()\n",
        "    cols = df.columns\n",
        "    for i in range(0, df.shape[1]):\n",
        "        for j in range(0, i+1):\n",
        "            pairs_to_drop.add((cols[i], cols[j]))\n",
        "    return pairs_to_drop\n",
        "\n",
        "def get_top_abs_correlations(df, n=5):\n",
        "    au_corr = df.corr().abs().unstack()\n",
        "    labels_to_drop = get_redundant_pairs(df)\n",
        "    au_corr = au_corr.drop(labels=labels_to_drop).sort_values(ascending=False)\n",
        "    return au_corr[0:n]\n"
      ],
      "execution_count": 0,
      "outputs": []
    },
    {
      "cell_type": "code",
      "metadata": {
        "id": "Z64CGuxdvv6u",
        "colab_type": "code",
        "outputId": "513a7a46-5672-4179-f981-ec8ebceff684",
        "colab": {
          "base_uri": "https://localhost:8080/",
          "height": 235
        }
      },
      "source": [
        "print(\"Top Absolute Correlations are as follows :\")\n",
        "print()\n",
        "print(get_top_abs_correlations(wine, 10))"
      ],
      "execution_count": 57,
      "outputs": [
        {
          "output_type": "stream",
          "text": [
            "Top Absolute Correlations are as follows :\n",
            "\n",
            "residual sugar        density                 0.820498\n",
            "density               alcohol                 0.760162\n",
            "free sulfur dioxide   total sulfur dioxide    0.619437\n",
            "total sulfur dioxide  density                 0.536868\n",
            "alcohol               quality                 0.462869\n",
            "total sulfur dioxide  alcohol                 0.446643\n",
            "fixed acidity         pH                      0.431274\n",
            "residual sugar        total sulfur dioxide    0.409583\n",
            "                      alcohol                 0.398167\n",
            "chlorides             alcohol                 0.356928\n",
            "dtype: float64\n"
          ],
          "name": "stdout"
        }
      ]
    },
    {
      "cell_type": "code",
      "metadata": {
        "id": "2o4Mb-5YwJQw",
        "colab_type": "code",
        "colab": {}
      },
      "source": [
        "## Values are not above 0.9, hence we do not drop any columns \n",
        "# based on high colinearity"
      ],
      "execution_count": 0,
      "outputs": []
    },
    {
      "cell_type": "code",
      "metadata": {
        "id": "r0ATHe1kwWV8",
        "colab_type": "code",
        "outputId": "9bc1f00b-e4f9-4a5c-b3e3-28e6ea557856",
        "colab": {
          "base_uri": "https://localhost:8080/",
          "height": 302
        }
      },
      "source": [
        "sns.scatterplot(x = \"residual sugar\", y = \"density\", data = wine)"
      ],
      "execution_count": 59,
      "outputs": [
        {
          "output_type": "execute_result",
          "data": {
            "text/plain": [
              "<matplotlib.axes._subplots.AxesSubplot at 0x7f72d5d90550>"
            ]
          },
          "metadata": {
            "tags": []
          },
          "execution_count": 59
        },
        {
          "output_type": "display_data",
          "data": {
            "image/png": "[encoded data removed]",
            "text/plain": [
              "<Figure size 432x288 with 1 Axes>"
            ]
          },
          "metadata": {
            "tags": []
          }
        }
      ]
    },
    {
      "cell_type": "code",
      "metadata": {
        "id": "98wiJbZwxG-r",
        "colab_type": "code",
        "outputId": "a1984732-1865-454f-dbfc-723fab1e1076",
        "colab": {
          "base_uri": "https://localhost:8080/",
          "height": 302
        }
      },
      "source": [
        "sns.scatterplot(x = \"density\", y = \"alcohol\", data = wine)"
      ],
      "execution_count": 60,
      "outputs": [
        {
          "output_type": "execute_result",
          "data": {
            "text/plain": [
              "<matplotlib.axes._subplots.AxesSubplot at 0x7f72d5de05f8>"
            ]
          },
          "metadata": {
            "tags": []
          },
          "execution_count": 60
        },
        {
          "output_type": "display_data",
          "data": {
            "image/png": "[encoded data removed]",
            "text/plain": [
              "<Figure size 432x288 with 1 Axes>"
            ]
          },
          "metadata": {
            "tags": []
          }
        }
      ]
    },
    {
      "cell_type": "code",
      "metadata": {
        "id": "FI_Y9viOxQSr",
        "colab_type": "code",
        "outputId": "62e6b87b-e3b1-4164-8594-b302e8808cca",
        "colab": {
          "base_uri": "https://localhost:8080/",
          "height": 302
        }
      },
      "source": [
        "sns.scatterplot(x = \"free sulfur dioxide\", y = \"total sulfur dioxide\", data = wine)"
      ],
      "execution_count": 61,
      "outputs": [
        {
          "output_type": "execute_result",
          "data": {
            "text/plain": [
              "<matplotlib.axes._subplots.AxesSubplot at 0x7f72d5ad6128>"
            ]
          },
          "metadata": {
            "tags": []
          },
          "execution_count": 61
        },
        {
          "output_type": "display_data",
          "data": {
            "image/png": "[encoded data removed]",
            "text/plain": [
              "<Figure size 432x288 with 1 Axes>"
            ]
          },
          "metadata": {
            "tags": []
          }
        }
      ]
    },
    {
      "cell_type": "code",
      "metadata": {
        "id": "XXcyxDQQxWMq",
        "colab_type": "code",
        "outputId": "5480ed42-65b5-4424-e8af-1419dfa4f168",
        "colab": {
          "base_uri": "https://localhost:8080/",
          "height": 151
        }
      },
      "source": [
        "wine[\"quality\"].value_counts()"
      ],
      "execution_count": 62,
      "outputs": [
        {
          "output_type": "execute_result",
          "data": {
            "text/plain": [
              "6    1788\n",
              "5    1175\n",
              "7     689\n",
              "4     153\n",
              "8     131\n",
              "3      20\n",
              "9       5\n",
              "Name: quality, dtype: int64"
            ]
          },
          "metadata": {
            "tags": []
          },
          "execution_count": 62
        }
      ]
    },
    {
      "cell_type": "code",
      "metadata": {
        "id": "QVMWPffrxbO4",
        "colab_type": "code",
        "colab": {}
      },
      "source": [
        ""
      ],
      "execution_count": 0,
      "outputs": []
    },
    {
      "cell_type": "code",
      "metadata": {
        "id": "37edZWANxbCV",
        "colab_type": "code",
        "colab": {}
      },
      "source": [
        "## Model Building:"
      ],
      "execution_count": 0,
      "outputs": []
    },
    {
      "cell_type": "code",
      "metadata": {
        "id": "9aSSLalLxa3N",
        "colab_type": "code",
        "colab": {}
      },
      "source": [
        "# Calssification algorithms applied:"
      ],
      "execution_count": 0,
      "outputs": []
    },
    {
      "cell_type": "code",
      "metadata": {
        "id": "tb_ZQOoryzZR",
        "colab_type": "code",
        "colab": {}
      },
      "source": [
        "## Model 1 : Multiple Linear Regression"
      ],
      "execution_count": 0,
      "outputs": []
    },
    {
      "cell_type": "code",
      "metadata": {
        "id": "JlQQwoXny68p",
        "colab_type": "code",
        "colab": {}
      },
      "source": [
        "# Creating X and y : matrices of dependent and independent variable\n",
        "X_MR= wine.iloc[:, :-1].values\n",
        "y_MR = wine.iloc[:, -1].values"
      ],
      "execution_count": 0,
      "outputs": []
    },
    {
      "cell_type": "code",
      "metadata": {
        "id": "9cTBGQLizdGU",
        "colab_type": "code",
        "outputId": "ccf9bec8-3ca4-484a-8d05-524f013c1fc5",
        "colab": {
          "base_uri": "https://localhost:8080/",
          "height": 134
        }
      },
      "source": [
        "print(X_MR)"
      ],
      "execution_count": 163,
      "outputs": [
        {
          "output_type": "stream",
          "text": [
            "[[ 7.    0.27  0.36 ...  3.    0.45  8.8 ]\n",
            " [ 6.3   0.3   0.34 ...  3.3   0.49  9.5 ]\n",
            " [ 8.1   0.28  0.4  ...  3.26  0.44 10.1 ]\n",
            " ...\n",
            " [ 6.5   0.24  0.19 ...  2.99  0.46  9.4 ]\n",
            " [ 5.5   0.29  0.3  ...  3.34  0.38 12.8 ]\n",
            " [ 6.    0.21  0.38 ...  3.26  0.32 11.8 ]]\n"
          ],
          "name": "stdout"
        }
      ]
    },
    {
      "cell_type": "code",
      "metadata": {
        "id": "VKSqyRMxza6T",
        "colab_type": "code",
        "outputId": "e051f388-21e6-479e-bd19-e8c8e963af07",
        "colab": {
          "base_uri": "https://localhost:8080/",
          "height": 34
        }
      },
      "source": [
        "print(y_MR)"
      ],
      "execution_count": 164,
      "outputs": [
        {
          "output_type": "stream",
          "text": [
            "[6 6 6 ... 6 7 6]\n"
          ],
          "name": "stdout"
        }
      ]
    },
    {
      "cell_type": "code",
      "metadata": {
        "id": "L232Y4Glz-QM",
        "colab_type": "code",
        "colab": {}
      },
      "source": [
        "# Splitting the dataset into Training and Test set:\n",
        "from sklearn.model_selection import train_test_split\n",
        "X_MR_train, X_MR_test, y_MR_train, y_MR_test = train_test_split(X_MR, y_MR, test_size = 0.2, random_state = 0)"
      ],
      "execution_count": 0,
      "outputs": []
    },
    {
      "cell_type": "code",
      "metadata": {
        "id": "ioByFDHy1JPJ",
        "colab_type": "code",
        "outputId": "55f3eba2-6ef8-474e-f627-db2fc515b183",
        "colab": {
          "base_uri": "https://localhost:8080/",
          "height": 134
        }
      },
      "source": [
        "print(X_MR_train)"
      ],
      "execution_count": 166,
      "outputs": [
        {
          "output_type": "stream",
          "text": [
            "[[ 6.5   0.26  0.31 ...  3.22  0.62 12.6 ]\n",
            " [ 7.1   0.17  0.43 ...  3.11  0.56 11.7 ]\n",
            " [ 5.8   0.34  0.21 ...  3.16  0.49  9.8 ]\n",
            " ...\n",
            " [ 6.3   0.41  0.3  ...  3.53  0.79 11.7 ]\n",
            " [ 8.5   0.2   0.4  ...  3.    0.35 10.5 ]\n",
            " [ 6.7   0.23  0.33 ...  3.11  0.52 10.1 ]]\n"
          ],
          "name": "stdout"
        }
      ]
    },
    {
      "cell_type": "code",
      "metadata": {
        "id": "HzCo04wg1L9r",
        "colab_type": "code",
        "outputId": "d3db5592-22d5-4b94-8642-5b34f5d23519",
        "colab": {
          "base_uri": "https://localhost:8080/",
          "height": 134
        }
      },
      "source": [
        "print(X_MR_test)"
      ],
      "execution_count": 167,
      "outputs": [
        {
          "output_type": "stream",
          "text": [
            "[[ 7.9   0.2   0.49 ...  3.16  0.47 10.5 ]\n",
            " [ 9.8   0.93  0.45 ...  3.12  0.59 10.2 ]\n",
            " [ 7.3   0.24  0.39 ...  3.17  0.51 10.9 ]\n",
            " ...\n",
            " [ 7.4   0.31  0.74 ...  3.02  0.43  8.7 ]\n",
            " [ 5.    0.46  0.18 ...  3.21  0.83 14.  ]\n",
            " [ 6.1   0.27  0.31 ...  3.24  0.46 10.9 ]]\n"
          ],
          "name": "stdout"
        }
      ]
    },
    {
      "cell_type": "code",
      "metadata": {
        "id": "kUr9tiMS1OP_",
        "colab_type": "code",
        "outputId": "db16c027-aad2-42ec-a3ea-81cae8b6a2c2",
        "colab": {
          "base_uri": "https://localhost:8080/",
          "height": 34
        }
      },
      "source": [
        "# training our model:\n",
        "\n",
        "from sklearn.linear_model import LinearRegression\n",
        "regressor_MR = LinearRegression()\n",
        "regressor_MR.fit(X_MR_train, y_MR_train)"
      ],
      "execution_count": 168,
      "outputs": [
        {
          "output_type": "execute_result",
          "data": {
            "text/plain": [
              "LinearRegression(copy_X=True, fit_intercept=True, n_jobs=None, normalize=False)"
            ]
          },
          "metadata": {
            "tags": []
          },
          "execution_count": 168
        }
      ]
    },
    {
      "cell_type": "code",
      "metadata": {
        "id": "V4kOxrIt1zvl",
        "colab_type": "code",
        "colab": {}
      },
      "source": [
        "y_pred_MR = regressor_MR.predict(X_MR_test)"
      ],
      "execution_count": 0,
      "outputs": []
    },
    {
      "cell_type": "code",
      "metadata": {
        "id": "1EofXnu1VE20",
        "colab_type": "code",
        "outputId": "e48c0ac1-d88a-43dd-aadb-5d339acd5caa",
        "colab": {
          "base_uri": "https://localhost:8080/",
          "height": 974
        }
      },
      "source": [
        "print(y_pred_MR)"
      ],
      "execution_count": 170,
      "outputs": [
        {
          "output_type": "stream",
          "text": [
            "[5.71 4.33 6.02 4.24 6.72 5.27 5.53 5.98 4.99 5.01 6.15 5.86 6.71 6.33\n",
            " 5.66 6.21 5.72 5.59 6.2  6.39 5.84 5.98 5.4  5.62 5.37 5.06 5.38 4.9\n",
            " 6.05 5.86 5.93 5.73 5.26 6.28 5.78 5.44 5.79 5.91 7.34 5.34 6.33 7.1\n",
            " 5.33 5.75 6.15 5.72 6.38 5.43 6.3  5.18 5.74 5.66 5.5  5.16 6.45 5.99\n",
            " 5.53 5.62 5.36 5.6  5.78 5.92 5.69 5.99 4.68 6.6  5.5  6.43 5.6  5.66\n",
            " 5.46 6.25 5.1  6.1  5.18 5.91 6.69 5.46 5.38 5.52 5.74 6.16 5.8  5.39\n",
            " 6.42 5.98 5.02 5.95 5.49 6.24 5.66 5.74 4.76 6.44 5.88 5.45 6.15 4.96\n",
            " 5.63 6.12 5.65 6.26 6.14 6.11 5.01 6.15 5.61 5.5  5.2  5.79 6.11 6.56\n",
            " 5.38 5.48 5.21 5.41 6.68 5.88 6.31 6.51 5.02 6.11 6.59 6.5  5.33 5.64\n",
            " 6.24 5.55 5.9  6.42 5.57 4.91 6.3  6.73 5.59 4.92 6.06 6.06 6.   4.54\n",
            " 5.52 5.92 5.24 5.96 6.13 5.39 5.98 5.2  6.63 5.66 6.14 5.79 5.65 6.43\n",
            " 6.52 5.52 6.02 6.16 6.41 6.06 5.81 5.4  5.14 6.33 6.27 5.69 6.15 6.28\n",
            " 5.6  5.55 5.62 5.2  5.89 5.67 5.88 5.44 6.37 6.36 5.3  5.56 5.53 5.53\n",
            " 5.39 6.52 5.75 5.76 5.3  5.29 6.58 5.92 5.94 5.44 6.14 6.03 5.1  5.17\n",
            " 5.58 6.46 6.54 5.92 5.2  6.49 6.21 6.31 6.29 6.51 6.12 6.15 5.93 5.34\n",
            " 6.02 6.3  6.56 5.88 5.53 5.28 5.26 5.57 6.58 5.72 5.98 5.96 5.51 5.64\n",
            " 5.94 6.25 5.75 5.74 5.98 5.5  7.03 5.17 5.57 5.2  5.48 6.48 5.82 6.32\n",
            " 5.56 5.62 5.85 6.23 6.44 6.29 6.2  5.51 6.23 5.42 6.6  5.57 5.5  5.86\n",
            " 5.61 5.3  5.24 5.89 6.33 6.28 5.24 5.85 6.18 5.79 5.68 5.1  5.18 5.79\n",
            " 5.34 5.92 5.25 6.26 6.47 5.13 6.29 6.67 5.56 6.12 6.23 6.14 5.16 6.42\n",
            " 5.76 6.09 5.52 5.75 5.65 6.59 5.85 6.74 5.49 6.65 5.35 5.83 5.69 5.32\n",
            " 6.12 5.02 5.4  4.87 6.17 6.65 5.2  6.58 5.25 5.49 6.44 5.71 5.77 6.1\n",
            " 6.04 4.54 5.35 5.87 5.41 5.43 5.19 5.56 5.74 6.28 6.71 5.28 5.18 6.45\n",
            " 5.49 5.72 5.68 5.73 5.58 5.71 6.15 6.38 5.25 6.36 6.19 5.56 6.   5.17\n",
            " 6.32 5.19 5.28 5.01 5.8  5.17 5.77 5.59 6.32 5.46 5.53 6.09 6.59 6.48\n",
            " 5.23 5.98 5.7  5.9  4.84 5.54 5.93 5.75 5.98 5.35 5.96 5.02 5.33 7.11\n",
            " 5.39 6.44 6.2  6.61 5.99 5.24 6.32 5.77 5.82 5.92 6.24 5.8  6.26 6.09\n",
            " 6.13 6.09 6.07 5.96 6.15 6.44 5.44 5.47 6.32 5.11 6.26 6.5  5.35 5.\n",
            " 6.   6.15 5.99 5.87 6.25 6.4  5.95 6.3  6.49 6.01 5.72 5.02 5.52 6.48\n",
            " 6.76 5.37 6.21 5.66 6.51 6.16 5.5  6.26 6.44 6.85 5.63 5.47 5.79 6.61\n",
            " 5.59 5.4  6.18 6.13 5.59 6.22 5.62 6.74 5.45 5.37 5.83 5.83 5.17 5.97\n",
            " 5.69 5.08 6.86 5.23 5.27 5.46 6.04 5.73 6.41 6.2  5.68 6.01 6.78 5.44\n",
            " 6.23 5.74 5.72 6.05 6.66 6.86 5.56 6.24 5.23 5.82 5.91 5.23 5.16 6.26\n",
            " 6.51 5.76 5.89 5.93 5.34 5.5  6.47 5.25 6.51 5.85 4.78 5.78 5.71 5.65\n",
            " 6.1  6.21 6.64 4.54 5.82 6.66 5.63 5.25 5.89 5.54 5.65 5.78 4.85 6.66\n",
            " 5.72 5.35 5.81 6.41 5.26 5.11 5.59 5.61 5.32 5.75 6.47 5.93 6.07 5.52\n",
            " 6.24 5.9  5.87 6.84 4.74 6.07 6.07 5.19 5.47 6.4  6.95 5.56 5.96 5.56\n",
            " 5.82 6.74 6.22 6.25 5.87 5.72 6.68 4.88 6.29 5.88 6.03 6.15 5.56 5.75\n",
            " 6.28 6.83 5.65 5.67 5.77 5.75 6.01 5.71 5.78 6.4  5.4  6.4  5.69 6.26\n",
            " 5.81 5.76 6.58 5.85 6.18 6.03 5.5  5.51 5.11 5.93 6.44 5.6  6.41 5.19\n",
            " 5.9  6.46 5.61 5.86 5.97 5.45 6.99 5.8  5.43 5.44 5.7  5.88 5.56 5.13\n",
            " 5.45 6.55 6.25 5.7  5.6  5.99 5.17 5.74 6.24 5.88 6.49 6.47 5.69 6.56\n",
            " 5.84 6.02 6.48 5.76 5.66 5.71 6.91 5.98 5.62 5.76 5.74 5.78 5.37 5.16\n",
            " 5.6  5.01 5.66 5.97 5.91 5.17 6.61 6.37 6.13 6.16 5.82 5.37 5.05 6.03\n",
            " 5.45 6.18 5.56 5.42 6.36 5.42 5.99 5.7  5.36 5.25 6.31 6.65 5.82 5.44\n",
            " 5.65 5.18 6.19 7.18 6.3  4.52 6.06 5.47 5.81 6.07 5.69 6.02 5.43 5.32\n",
            " 5.83 6.29 5.72 5.4  5.61 6.02 6.34 5.53 5.88 5.4  5.98 5.48 5.62 5.67\n",
            " 5.38 5.15 5.58 6.54 6.   5.68 6.56 5.25 6.95 5.23 5.26 6.18 6.31 5.17\n",
            " 5.59 5.07 5.9  6.25 5.91 5.39 5.48 6.54 6.02 5.73 6.65 5.47 5.77 5.24\n",
            " 5.36 6.61 6.19 5.74 5.63 5.88 5.74 6.34 5.02 4.54 5.93 5.84 6.57 6.06\n",
            " 5.6  5.62 5.16 5.54 6.47 5.32 6.61 5.85 5.66 6.93 5.24 6.   5.21 5.69\n",
            " 5.55 5.74 5.79 6.33 6.09 5.22 6.38 5.83 6.22 5.49 6.19 5.76 6.54 5.29\n",
            " 6.44 5.63 6.29 5.88 6.18 5.83 6.26 6.53 6.48 5.88 5.46 5.37 6.89 6.03\n",
            " 5.44 6.85 5.77 5.86 6.46 4.66 6.42 5.5  5.9  6.14 4.38 5.5  5.48 6.2\n",
            " 6.43 6.05 6.32 5.8  6.6  5.89 6.51 5.82 5.45 6.1  5.35 6.05 5.8  5.6\n",
            " 6.07 6.85 6.59 5.33 6.71 6.43 4.8  6.17 6.48 5.69 5.48 5.57 6.09 5.89\n",
            " 6.48 6.17 6.64 5.99 6.49 5.85 5.25 7.01 6.03]\n"
          ],
          "name": "stdout"
        }
      ]
    },
    {
      "cell_type": "code",
      "metadata": {
        "id": "9gM5vladWbb4",
        "colab_type": "code",
        "colab": {}
      },
      "source": [
        ""
      ],
      "execution_count": 0,
      "outputs": []
    },
    {
      "cell_type": "code",
      "metadata": {
        "id": "ZRorpHMVWba6",
        "colab_type": "code",
        "colab": {}
      },
      "source": [
        "## Model 2:\n"
      ],
      "execution_count": 0,
      "outputs": []
    },
    {
      "cell_type": "code",
      "metadata": {
        "id": "BdEldXoyWzFw",
        "colab_type": "code",
        "colab": {}
      },
      "source": [
        "# Creating X and y : matrices of dependent and independent variable\n",
        "X_SVM= wine.iloc[:, :-1].values\n",
        "y_SVM = wine.iloc[:, -1].values"
      ],
      "execution_count": 0,
      "outputs": []
    },
    {
      "cell_type": "code",
      "metadata": {
        "id": "KqT-m8jRaY8E",
        "colab_type": "code",
        "outputId": "cacd95e9-4da4-4e4d-8e70-365ecd454cd7",
        "colab": {
          "base_uri": "https://localhost:8080/",
          "height": 134
        }
      },
      "source": [
        "print(X_SVM)"
      ],
      "execution_count": 173,
      "outputs": [
        {
          "output_type": "stream",
          "text": [
            "[[ 7.    0.27  0.36 ...  3.    0.45  8.8 ]\n",
            " [ 6.3   0.3   0.34 ...  3.3   0.49  9.5 ]\n",
            " [ 8.1   0.28  0.4  ...  3.26  0.44 10.1 ]\n",
            " ...\n",
            " [ 6.5   0.24  0.19 ...  2.99  0.46  9.4 ]\n",
            " [ 5.5   0.29  0.3  ...  3.34  0.38 12.8 ]\n",
            " [ 6.    0.21  0.38 ...  3.26  0.32 11.8 ]]\n"
          ],
          "name": "stdout"
        }
      ]
    },
    {
      "cell_type": "code",
      "metadata": {
        "id": "s2Gch1KJab_C",
        "colab_type": "code",
        "outputId": "9a9bd652-7b4a-40f8-9151-33706f93bcef",
        "colab": {
          "base_uri": "https://localhost:8080/",
          "height": 34
        }
      },
      "source": [
        "print(y_SVM)"
      ],
      "execution_count": 174,
      "outputs": [
        {
          "output_type": "stream",
          "text": [
            "[6 6 6 ... 6 7 6]\n"
          ],
          "name": "stdout"
        }
      ]
    },
    {
      "cell_type": "code",
      "metadata": {
        "id": "G5NzEN2wXByj",
        "colab_type": "code",
        "colab": {}
      },
      "source": [
        "# Splitting the dataset into Training and Test set:\n",
        "from sklearn.model_selection import train_test_split\n",
        "X_SVM_train, X_SVM_test, y_SVM_train, y_SVM_test = train_test_split(X_SVM, y_SVM, test_size = 0.25, random_state = 0)"
      ],
      "execution_count": 0,
      "outputs": []
    },
    {
      "cell_type": "code",
      "metadata": {
        "id": "RSPsOAlmF-yS",
        "colab_type": "code",
        "colab": {}
      },
      "source": [
        "## Feature Scaling \n",
        "from sklearn.preprocessing import StandardScaler\n",
        "sc = StandardScaler()\n",
        "X_SVM_train = sc.fit_transform(X_SVM_train)\n",
        "X_SVM_test = sc.transform(X_SVM_test)"
      ],
      "execution_count": 0,
      "outputs": []
    },
    {
      "cell_type": "code",
      "metadata": {
        "id": "COtZh2OvXBsA",
        "colab_type": "code",
        "outputId": "a7658b31-468f-4473-e7a6-2191866bdc40",
        "colab": {
          "base_uri": "https://localhost:8080/",
          "height": 50
        }
      },
      "source": [
        "# Training the model with Support Vector Regressor algorithm:\n",
        "\n",
        "from sklearn.svm import SVR\n",
        "regressor_SVM = SVR(kernel = 'rbf')\n",
        "regressor_SVM.fit(X_SVM_train, y_SVM_train)"
      ],
      "execution_count": 180,
      "outputs": [
        {
          "output_type": "execute_result",
          "data": {
            "text/plain": [
              "SVR(C=1.0, cache_size=200, coef0=0.0, degree=3, epsilon=0.1, gamma='scale',\n",
              "    kernel='rbf', max_iter=-1, shrinking=True, tol=0.001, verbose=False)"
            ]
          },
          "metadata": {
            "tags": []
          },
          "execution_count": 180
        }
      ]
    },
    {
      "cell_type": "code",
      "metadata": {
        "id": "lE8jjQEPXBh5",
        "colab_type": "code",
        "outputId": "0615c78f-97f1-4f49-c73d-84ae54a876d1",
        "colab": {
          "base_uri": "https://localhost:8080/",
          "height": 1000
        }
      },
      "source": [
        "y_pred_SVM = regressor_SVM.predict(X_SVM_test)\n",
        "print(y_pred_SVM)"
      ],
      "execution_count": 181,
      "outputs": [
        {
          "output_type": "stream",
          "text": [
            "[5.73 4.4  6.14 4.77 6.62 5.05 5.87 5.88 4.78 4.84 6.36 6.1  6.75 6.2\n",
            " 5.66 6.59 5.27 5.66 6.19 6.87 5.99 5.99 5.44 5.57 5.77 4.8  5.59 4.83\n",
            " 6.16 5.61 5.7  5.32 4.91 6.1  5.47 5.14 6.09 6.18 6.26 5.32 6.4  6.65\n",
            " 5.56 6.26 6.26 6.   6.08 5.25 5.9  4.65 5.87 5.6  5.22 5.02 6.55 6.07\n",
            " 5.61 5.6  4.93 5.16 5.97 5.95 5.85 5.71 4.71 6.77 6.05 6.9  5.26 5.5\n",
            " 5.08 5.79 5.23 6.09 5.46 5.92 6.48 5.41 4.74 5.63 5.58 6.04 6.05 5.36\n",
            " 6.6  6.1  4.88 5.84 6.13 6.19 5.61 5.65 5.03 5.37 6.52 5.29 6.1  5.04\n",
            " 5.66 6.06 5.33 6.84 6.14 6.13 5.25 6.05 5.98 5.22 5.22 5.82 6.67 7.08\n",
            " 5.62 5.14 5.3  5.16 7.02 5.66 6.53 6.68 4.93 5.62 6.56 6.35 4.94 5.32\n",
            " 6.58 5.19 5.92 6.95 5.74 4.83 6.42 6.3  5.82 5.51 6.06 6.18 5.96 5.03\n",
            " 5.64 5.68 4.88 6.06 6.13 5.21 5.94 4.67 6.5  5.55 5.99 5.48 5.95 6.46\n",
            " 6.6  5.55 6.41 5.83 6.4  6.   5.79 5.08 4.12 6.68 6.24 5.49 5.98 5.93\n",
            " 6.23 5.93 5.17 5.44 5.51 5.66 6.14 5.49 7.15 6.8  5.22 5.16 5.96 5.27\n",
            " 5.47 6.38 5.63 5.94 5.2  5.26 5.63 5.97 5.97 5.32 6.27 5.83 5.49 5.12\n",
            " 5.34 6.16 5.87 5.95 5.14 6.52 6.23 6.24 5.89 6.58 6.56 5.88 6.04 5.14\n",
            " 5.99 6.2  6.57 6.18 5.84 5.5  5.72 5.55 6.07 5.47 5.43 5.94 5.8  5.21\n",
            " 5.88 6.31 5.96 6.47 6.01 5.02 7.01 5.26 5.41 5.53 5.73 6.48 5.93 6.22\n",
            " 5.32 5.52 5.39 5.93 7.13 6.6  5.79 5.21 6.09 5.36 6.16 5.06 5.76 5.99\n",
            " 5.9  5.15 4.98 5.89 5.8  6.2  5.15 5.89 5.71 5.56 5.96 5.35 4.97 5.59\n",
            " 5.49 5.66 5.07 6.31 6.67 4.64 6.29 6.5  5.31 6.12 6.38 5.13 5.13 5.89\n",
            " 5.3  5.97 5.53 5.39 5.31 6.22 6.03 6.84 5.37 6.72 5.35 5.29 5.86 5.46\n",
            " 5.94 5.   5.02 4.8  5.9  6.81 4.94 6.63 4.94 5.42 6.31 5.66 5.84 6.1\n",
            " 5.4  4.78 5.61 5.66 5.93 5.67 4.8  5.52 5.95 5.83 6.92 5.31 5.13 6.18\n",
            " 6.07 6.17 4.98 5.65 4.86 5.42 5.98 6.41 5.19 6.82 6.52 5.33 5.95 4.95\n",
            " 6.35 5.11 5.3  5.57 5.11 5.24 5.58 5.24 6.46 5.06 5.57 6.13 5.57 7.19\n",
            " 5.52 6.03 5.65 5.6  4.91 5.14 5.71 5.59 5.54 4.99 5.72 4.16 5.39 6.93\n",
            " 5.59 6.1  6.51 5.94 5.55 5.21 6.21 5.98 5.88 5.27 6.15 5.97 6.22 6.31\n",
            " 5.98 6.15 6.02 5.66 6.07 6.2  5.34 5.17 5.94 4.99 6.11 6.04 5.23 5.68\n",
            " 5.86 6.55 5.97 5.68 7.1  6.68 6.56 6.31 6.46 5.79 5.69 4.96 5.53 6.6\n",
            " 7.04 5.11 6.13 5.91 6.   6.18 5.48 6.47 6.63 7.16 5.83 6.13 5.76 6.98\n",
            " 5.66 5.73 6.14 5.76 5.47 6.06 5.3  6.75 5.26 5.3  5.7  5.98 5.16 6.38\n",
            " 5.92 4.94 7.13 4.89 5.14 5.14 6.01 6.03 6.61 5.89 5.43 5.56 6.09 6.\n",
            " 6.14 5.67 5.25 6.44 6.38 6.5  5.34 6.83 5.02 5.96 6.47 5.18 5.15 6.04\n",
            " 6.17 5.78 6.08 5.67 5.02 5.44 6.45 5.05 6.54 5.95 4.28 6.02 5.08 5.22\n",
            " 6.15 6.   7.3  4.59 5.51 7.1  5.18 5.84 5.95 5.31 6.26 5.3  4.91 6.23\n",
            " 6.14 5.02 5.7  6.53 5.15 5.11 6.05 5.43 5.32 5.83 6.7  5.94 6.16 5.2\n",
            " 6.46 6.2  6.43 7.16 4.85 6.06 5.88 4.93 5.88 6.47 5.92 5.54 6.   5.3\n",
            " 5.97 6.53 6.3  6.65 5.71 6.   6.73 5.17 6.54 6.02 6.18 6.03 5.34 5.92\n",
            " 6.   7.03 5.31 5.91 5.67 6.15 6.06 5.87 5.98 6.31 5.24 5.99 5.3  5.95\n",
            " 5.56 5.49 7.02 5.77 6.25 6.15 5.26 5.51 4.79 6.07 6.49 5.5  6.21 5.04\n",
            " 5.82 6.24 5.45 5.91 5.91 5.18 7.09 5.93 5.14 5.2  5.65 6.08 5.6  5.24\n",
            " 5.55 7.13 5.95 5.76 5.39 6.01 5.1  5.94 6.04 5.94 6.24 6.91 5.81 6.56\n",
            " 5.85 5.35 6.59 5.59 5.91 5.46 6.37 6.12 4.95 5.53 5.45 5.78 5.19 5.2\n",
            " 5.76 5.42 5.92 5.92 6.3  4.94 6.66 6.33 5.13 6.17 5.89 4.96 4.92 5.91\n",
            " 5.2  6.59 5.2  5.07 6.5  5.21 6.09 5.68 5.15 5.34 6.43 6.63 6.36 5.32\n",
            " 5.33 5.18 6.47 5.58 6.31 5.26 6.26 5.77 5.38 6.17 5.28 6.01 5.47 5.33\n",
            " 5.81 6.15 5.68 5.28 5.57 6.23 6.05 5.49 5.77 5.7  4.38 5.45 5.07 5.75\n",
            " 5.12 5.18 5.79 6.6  6.01 5.84 6.75 5.35 6.58 5.19 5.26 6.08 5.95 5.02\n",
            " 5.45 4.74 5.74 6.29 5.85 5.09 5.12 6.31 6.22 5.59 6.68 5.25 5.41 4.89\n",
            " 5.24 6.23 6.   5.42 6.25 5.85 5.45 6.35 4.18 5.19 6.27 5.86 6.49 6.02\n",
            " 5.14 5.81 5.01 5.27 6.3  5.15 7.25 5.73 5.34 5.5  4.85 5.63 5.13 5.58\n",
            " 5.25 5.69 5.92 6.03 6.4  5.   6.15 5.75 6.07 5.39 6.43 5.64 6.48 5.2\n",
            " 6.55 5.77 5.97 5.85 6.16 5.74 6.05 6.04 6.25 5.86 5.16 5.36 6.7  5.85\n",
            " 5.4  6.31 5.58 5.85 6.66 4.5  6.39 5.66 5.41 6.17 4.8  5.5  5.19 6.39\n",
            " 6.94 5.77 6.13 5.99 6.95 5.98 6.53 5.62 6.01 6.   5.24 5.99 5.97 5.2\n",
            " 6.11 6.13 6.17 5.31 7.01 6.21 5.   5.86 5.45 5.92 5.42 5.31 6.15 5.46\n",
            " 6.96 6.01 6.66 5.69 6.55 5.69 4.98 7.23 6.17 6.92 6.17 5.4  4.99 6.31\n",
            " 5.47 6.09 6.   5.66 6.52 6.22 5.94 5.56 5.63 6.22 5.61 4.98 5.25 5.78\n",
            " 5.49 5.52 5.77 5.93 6.2  6.36 5.3  6.06 4.55 5.93 6.29 6.66 5.88 5.79\n",
            " 6.08 5.61 5.32 5.58 5.04 5.77 5.59 5.17 5.73 6.59 5.02 5.49 5.82 5.65\n",
            " 5.7  5.83 6.34 6.   5.48 5.57 5.46 5.96 5.7  4.3  5.72 4.7  5.93 6.74\n",
            " 6.98 4.98 4.97 6.53 6.67 5.6  5.76 6.35 6.86 4.9  5.87 6.08 6.26 5.86\n",
            " 5.36 5.91 5.11 5.17 5.61 5.51 6.38 6.12 6.86 5.42 5.34 5.59 6.01 5.88\n",
            " 5.68 5.6  5.39 5.6  5.67 5.09 6.8  5.78 5.93 5.47 5.55 5.9  5.69 6.02\n",
            " 6.85 6.02 5.48 6.3  5.35 5.6  6.52 5.38 6.42 5.88 4.96 6.22 5.7  5.48\n",
            " 6.23 5.46 6.36 6.11 5.83 6.47 5.66 6.18 6.13 6.3  5.82 5.2  5.76 4.96\n",
            " 5.33 5.07 6.09 5.91 5.85 5.1  5.39 6.36 6.   5.63 5.98 5.03 5.97 6.\n",
            " 5.16 5.97 6.77 5.05 6.05 6.9  5.78 5.15 5.23 5.05 5.2  6.86 5.91 5.19\n",
            " 5.21 5.91 5.29 5.03 5.83 5.75 5.71 6.8  5.99 5.8  6.15 5.3  5.31 6.65\n",
            " 5.84 5.62 5.78 6.81 5.98 5.   5.16 5.64 4.9  5.63 6.46 6.24 5.95 5.14\n",
            " 5.3  4.64 5.88 5.73 6.27 5.72 7.05 6.97 6.27 6.27 5.33]\n"
          ],
          "name": "stdout"
        }
      ]
    },
    {
      "cell_type": "code",
      "metadata": {
        "id": "aUlQBNytGciD",
        "colab_type": "code",
        "colab": {}
      },
      "source": [
        ""
      ],
      "execution_count": 0,
      "outputs": []
    },
    {
      "cell_type": "code",
      "metadata": {
        "id": "3jf9SPDqbj-M",
        "colab_type": "code",
        "colab": {}
      },
      "source": [
        "## Model 3:"
      ],
      "execution_count": 0,
      "outputs": []
    },
    {
      "cell_type": "code",
      "metadata": {
        "id": "vURJhGmSck8Q",
        "colab_type": "code",
        "colab": {}
      },
      "source": [
        "# Creating X and y : matrices of dependent and independent variable\n",
        "X_DT= wine.iloc[:, :-1].values\n",
        "y_DT = wine.iloc[:, -1].values"
      ],
      "execution_count": 0,
      "outputs": []
    },
    {
      "cell_type": "code",
      "metadata": {
        "id": "wd6qM0mVcwD2",
        "colab_type": "code",
        "colab": {}
      },
      "source": [
        "# Splitting the dataset into Training and Test set:\n",
        "from sklearn.model_selection import train_test_split\n",
        "X_DT_train, X_DT_test, y_DT_train, y_DT_test = train_test_split(X_DT, y_DT, test_size = 0.25, random_state = 0)"
      ],
      "execution_count": 0,
      "outputs": []
    },
    {
      "cell_type": "code",
      "metadata": {
        "id": "gvmWRnBTc-Yl",
        "colab_type": "code",
        "outputId": "4434d74c-2a78-422e-9544-d053ed5ed935",
        "colab": {
          "base_uri": "https://localhost:8080/",
          "height": 118
        }
      },
      "source": [
        "# Training the model : Decision Tree Regressor\n",
        "\n",
        "from sklearn.tree import DecisionTreeRegressor\n",
        "regressor_DT = DecisionTreeClassifier( random_state = 0)\n",
        "regressor_DT.fit(X_DT_train,y_DT_train)"
      ],
      "execution_count": 185,
      "outputs": [
        {
          "output_type": "execute_result",
          "data": {
            "text/plain": [
              "DecisionTreeClassifier(ccp_alpha=0.0, class_weight=None, criterion='gini',\n",
              "                       max_depth=None, max_features=None, max_leaf_nodes=None,\n",
              "                       min_impurity_decrease=0.0, min_impurity_split=None,\n",
              "                       min_samples_leaf=1, min_samples_split=2,\n",
              "                       min_weight_fraction_leaf=0.0, presort='deprecated',\n",
              "                       random_state=0, splitter='best')"
            ]
          },
          "metadata": {
            "tags": []
          },
          "execution_count": 185
        }
      ]
    },
    {
      "cell_type": "code",
      "metadata": {
        "id": "Y2Y1xhXIdY88",
        "colab_type": "code",
        "outputId": "ad2fa157-11b0-4de7-8e96-099519734444",
        "colab": {
          "base_uri": "https://localhost:8080/",
          "height": 470
        }
      },
      "source": [
        "y_pred_DT = regressor_DT.predict(X_DT_test)\n",
        "print(y_pred_DT)"
      ],
      "execution_count": 186,
      "outputs": [
        {
          "output_type": "stream",
          "text": [
            "[6 4 8 5 8 5 5 6 5 4 6 5 6 5 5 8 5 5 6 4 7 5 5 5 5 5 6 6 7 6 6 4 4 6 5 5 6\n",
            " 5 6 5 5 6 6 6 6 5 7 5 6 4 6 6 5 5 8 6 5 6 5 6 6 6 6 7 5 7 8 7 5 7 5 6 4 6\n",
            " 4 6 7 6 5 6 6 6 6 4 7 6 5 6 5 6 6 7 5 8 6 5 6 5 6 7 4 6 4 6 5 4 6 5 5 6 7\n",
            " 8 5 5 5 6 7 6 7 6 4 7 7 7 5 5 8 5 5 7 8 6 8 7 5 5 7 6 5 6 6 4 5 6 7 5 6 5\n",
            " 6 6 6 5 6 7 6 5 7 5 6 7 6 5 4 7 6 5 6 5 6 6 5 5 6 6 6 6 6 8 8 6 6 5 6 8 6\n",
            " 6 5 5 4 6 6 6 7 6 5 5 6 6 4 6 5 7 7 6 6 8 6 5 6 5 7 6 6 6 6 5 6 6 6 6 6 6\n",
            " 5 6 6 4 7 4 6 5 7 6 6 5 6 7 7 6 6 5 5 6 7 7 6 5 6 5 6 6 7 5 6 5 5 6 5 5 5\n",
            " 6 5 5 6 6 4 6 5 7 5 6 8 5 7 7 5 5 6 4 4 6 5 6 5 5 5 6 5 7 5 6 5 5 6 6 6 6\n",
            " 5 5 6 6 5 6 5 5 7 6 6 7 5 6 5 5 5 6 5 6 6 6 6 5 5 6 7 8 6 6 5 5 6 6 6 8 6\n",
            " 5 6 5 6 5 7 5 4 6 4 4 7 6 5 7 6 7 6 6 6 5 5 5 6 4 8 4 6 4 5 8 6 5 7 7 7 6\n",
            " 6 7 6 5 6 5 6 6 5 7 6 6 6 7 4 5 6 5 6 7 6 5 6 7 6 6 7 7 6 6 7 6 5 5 6 6 7\n",
            " 5 6 6 6 6 5 7 5 7 6 5 6 7 6 5 7 6 6 6 6 7 5 5 5 6 5 7 6 6 8 5 5 5 6 7 7 5\n",
            " 6 6 6 6 6 5 5 5 7 6 5 6 5 6 7 5 5 6 6 5 7 6 6 5 7 5 8 6 4 6 5 5 4 7 6 5 6\n",
            " 7 5 6 6 5 7 7 5 6 5 4 5 5 6 5 6 5 6 6 6 6 7 7 7 6 5 8 4 7 5 5 7 7 6 5 5 6\n",
            " 7 7 6 6 5 6 6 5 7 6 6 6 5 5 6 7 5 6 6 5 6 6 6 6 5 7 5 7 6 5 8 7 7 6 5 6 6\n",
            " 6 6 6 6 5 5 6 6 6 7 5 6 6 5 6 5 6 5 5 5 6 7 5 5 6 4 6 5 6 7 7 6 7 5 6 8 5\n",
            " 6 4 8 7 5 5 5 7 5 5 5 6 6 6 6 5 6 7 5 5 6 6 5 6 6 8 6 5 7 5 6 5 5 6 6 6 6\n",
            " 5 5 5 6 6 5 5 6 6 5 7 5 6 5 4 5 6 6 5 5 7 7 6 5 6 3 5 4 5 3 6 6 6 7 6 6 6\n",
            " 7 5 6 6 7 5 5 6 5 6 6 6 6 6 8 6 6 6 6 6 5 6 6 5 7 5 4 6 4 5 7 6 7 7 5 6 5\n",
            " 6 6 5 7 6 5 6 5 6 5 5 4 5 6 6 6 5 6 6 6 5 8 6 6 5 7 5 5 6 7 6 6 5 6 5 5 6\n",
            " 6 6 6 8 6 5 5 5 6 5 6 6 5 6 4 5 6 5 6 6 7 5 7 6 5 6 5 5 5 5 6 6 7 5 7 6 4\n",
            " 6 6 7 5 4 6 6 7 6 6 7 6 6 5 6 6 8 7 5 6 6 4 6 7 6 8 8 7 6 5 6 5 6 6 6 6 5\n",
            " 6 6 6 7 6 5 4 6 8 7 5 6 5 6 6 5 5 5 5 6 6 8 5 6 6 6 6 6 7 7 5 7 6 6 6 4 6\n",
            " 5 6 7 7 5 6 7 6 6 6 5 6 5 6 6 6 6 5 5 6 6 6 6 7 6 7 5 6 5 7 6 6 5 6 6 5 5\n",
            " 6 6 6 5 6 8 5 6 6 6 6 6 6 4 6 5 7 5 5 6 6 6 7 5 6 7 5 5 6 6 6 7 6 5 6 4 5\n",
            " 5 5 5 6 5 6 6 8 6 6 5 6 6 5 6 7 5 6 8 6 5 5 6 6 7 6 5 4 7 6 6 6 4 7 7 7 7\n",
            " 6 6 4 7 5 5 6 7 6 5 6 6 5 5 7 6 7 5 6 6 5 6 7 6 8 7 6 7 5]\n"
          ],
          "name": "stdout"
        }
      ]
    },
    {
      "cell_type": "code",
      "metadata": {
        "id": "pUtZa-E7d8_7",
        "colab_type": "code",
        "colab": {}
      },
      "source": [
        ""
      ],
      "execution_count": 0,
      "outputs": []
    },
    {
      "cell_type": "code",
      "metadata": {
        "id": "N3bCI-GmqLaO",
        "colab_type": "code",
        "colab": {}
      },
      "source": [
        "## Applying Neural nets to our data:"
      ],
      "execution_count": 0,
      "outputs": []
    },
    {
      "cell_type": "code",
      "metadata": {
        "id": "XYwP0G94tlPj",
        "colab_type": "code",
        "colab": {
          "base_uri": "https://localhost:8080/",
          "height": 34
        },
        "outputId": "37599f83-4673-4f96-b2f3-217bf6951a2c"
      },
      "source": [
        "import tensorflow as tf\n",
        "print(tf.__version__)"
      ],
      "execution_count": 121,
      "outputs": [
        {
          "output_type": "stream",
          "text": [
            "2.2.0\n"
          ],
          "name": "stdout"
        }
      ]
    },
    {
      "cell_type": "code",
      "metadata": {
        "id": "CvyWLmljqLNd",
        "colab_type": "code",
        "colab": {}
      },
      "source": [
        "# Creating X and y : matrices of dependent and independent variable\n",
        "X_ann= wine.iloc[:, :-1].values\n",
        "y_ann = wine.iloc[:, -1].values"
      ],
      "execution_count": 0,
      "outputs": []
    },
    {
      "cell_type": "code",
      "metadata": {
        "id": "e--JZEIRqLGt",
        "colab_type": "code",
        "colab": {
          "base_uri": "https://localhost:8080/",
          "height": 134
        },
        "outputId": "2bab667e-cfb4-4613-9bd9-5376f72113f0"
      },
      "source": [
        "print(X_ann)"
      ],
      "execution_count": 123,
      "outputs": [
        {
          "output_type": "stream",
          "text": [
            "[[ 7.    0.27  0.36 ...  3.    0.45  8.8 ]\n",
            " [ 6.3   0.3   0.34 ...  3.3   0.49  9.5 ]\n",
            " [ 8.1   0.28  0.4  ...  3.26  0.44 10.1 ]\n",
            " ...\n",
            " [ 6.5   0.24  0.19 ...  2.99  0.46  9.4 ]\n",
            " [ 5.5   0.29  0.3  ...  3.34  0.38 12.8 ]\n",
            " [ 6.    0.21  0.38 ...  3.26  0.32 11.8 ]]\n"
          ],
          "name": "stdout"
        }
      ]
    },
    {
      "cell_type": "code",
      "metadata": {
        "id": "WRgyjLq8qK-c",
        "colab_type": "code",
        "colab": {
          "base_uri": "https://localhost:8080/",
          "height": 34
        },
        "outputId": "6925a1e5-90e7-4613-81bd-345a3d485f28"
      },
      "source": [
        "print(y_ann)"
      ],
      "execution_count": 124,
      "outputs": [
        {
          "output_type": "stream",
          "text": [
            "[6 6 6 ... 6 7 6]\n"
          ],
          "name": "stdout"
        }
      ]
    },
    {
      "cell_type": "code",
      "metadata": {
        "id": "S62Ps6WAqK70",
        "colab_type": "code",
        "colab": {}
      },
      "source": [
        "# Splitting the dataset into Training and Test set:\n",
        "from sklearn.model_selection import train_test_split\n",
        "X_ann_train, X_ann_test, y_ann_train, y_ann_test = train_test_split(X_ann, y_ann, test_size = 0.25, random_state = 0)"
      ],
      "execution_count": 0,
      "outputs": []
    },
    {
      "cell_type": "code",
      "metadata": {
        "id": "J1Gfk0qJqK13",
        "colab_type": "code",
        "colab": {}
      },
      "source": [
        "## Feature Scaling \n",
        "from sklearn.preprocessing import StandardScaler\n",
        "sc = StandardScaler()\n",
        "X_ann_train = sc.fit_transform(X_ann_train)\n",
        "X_ann_test = sc.transform(X_ann_test)"
      ],
      "execution_count": 0,
      "outputs": []
    },
    {
      "cell_type": "code",
      "metadata": {
        "id": "LGj6JyPxqK0B",
        "colab_type": "code",
        "colab": {}
      },
      "source": [
        "## Building the Arificial Neural Network:"
      ],
      "execution_count": 0,
      "outputs": []
    },
    {
      "cell_type": "code",
      "metadata": {
        "id": "BMfkF_agqKrM",
        "colab_type": "code",
        "colab": {}
      },
      "source": [
        "ann = tf.keras.models.Sequential()"
      ],
      "execution_count": 0,
      "outputs": []
    },
    {
      "cell_type": "code",
      "metadata": {
        "id": "clDfCLx8qKfn",
        "colab_type": "code",
        "colab": {}
      },
      "source": [
        "## Input Layer added automatically\n",
        "# Adding the first layer of the network\n",
        "ann.add(tf.keras.layers.Dense(units = 6, activation = 'relu'))"
      ],
      "execution_count": 0,
      "outputs": []
    },
    {
      "cell_type": "code",
      "metadata": {
        "id": "545NVlxBqKPy",
        "colab_type": "code",
        "colab": {}
      },
      "source": [
        "## Adding second layer:\n",
        "ann.add(tf.keras.layers.Dense(units = 8, activation = 'relu'))"
      ],
      "execution_count": 0,
      "outputs": []
    },
    {
      "cell_type": "code",
      "metadata": {
        "id": "ICpRFR1bukuf",
        "colab_type": "code",
        "colab": {}
      },
      "source": [
        "## Adding third layer:\n",
        "ann.add(tf.keras.layers.Dense(units = 10, activation = 'relu'))"
      ],
      "execution_count": 0,
      "outputs": []
    },
    {
      "cell_type": "code",
      "metadata": {
        "id": "SsZ7qa3LuREP",
        "colab_type": "code",
        "colab": {}
      },
      "source": [
        "## Adding output layer:\n",
        "ann.add(tf.keras.layers.Dense(units = 1))"
      ],
      "execution_count": 0,
      "outputs": []
    },
    {
      "cell_type": "code",
      "metadata": {
        "id": "xxkx4YhBvJof",
        "colab_type": "code",
        "colab": {}
      },
      "source": [
        "## Next part: Compiling the ann\n",
        "ann.compile(optimizer = 'adam', loss = 'mean_squared_error')"
      ],
      "execution_count": 0,
      "outputs": []
    },
    {
      "cell_type": "code",
      "metadata": {
        "id": "oijtKSxpvJlI",
        "colab_type": "code",
        "colab": {
          "base_uri": "https://localhost:8080/",
          "height": 1000
        },
        "outputId": "be1b4cdb-a239-4ffa-f057-9d396a734aff"
      },
      "source": [
        "## Training the ann:\n",
        "ann.fit( X_ann_train, y_ann_train, batch_size = 16, epochs= 60)"
      ],
      "execution_count": 141,
      "outputs": [
        {
          "output_type": "stream",
          "text": [
            "Epoch 1/60\n",
            "186/186 [==============================] - 0s 998us/step - loss: 8.6279\n",
            "Epoch 2/60\n",
            "186/186 [==============================] - 0s 1ms/step - loss: 2.9557\n",
            "Epoch 3/60\n",
            "186/186 [==============================] - 0s 1ms/step - loss: 2.1050\n",
            "Epoch 4/60\n",
            "186/186 [==============================] - 0s 1ms/step - loss: 1.5964\n",
            "Epoch 5/60\n",
            "186/186 [==============================] - 0s 1ms/step - loss: 1.2421\n",
            "Epoch 6/60\n",
            "186/186 [==============================] - 0s 1ms/step - loss: 0.9927\n",
            "Epoch 7/60\n",
            "186/186 [==============================] - 0s 970us/step - loss: 0.8263\n",
            "Epoch 8/60\n",
            "186/186 [==============================] - 0s 975us/step - loss: 0.7272\n",
            "Epoch 9/60\n",
            "186/186 [==============================] - 0s 1ms/step - loss: 0.6705\n",
            "Epoch 10/60\n",
            "186/186 [==============================] - 0s 1ms/step - loss: 0.6330\n",
            "Epoch 11/60\n",
            "186/186 [==============================] - 0s 996us/step - loss: 0.6107\n",
            "Epoch 12/60\n",
            "186/186 [==============================] - 0s 948us/step - loss: 0.5975\n",
            "Epoch 13/60\n",
            "186/186 [==============================] - 0s 976us/step - loss: 0.5894\n",
            "Epoch 14/60\n",
            "186/186 [==============================] - 0s 943us/step - loss: 0.5834\n",
            "Epoch 15/60\n",
            "186/186 [==============================] - 0s 950us/step - loss: 0.5730\n",
            "Epoch 16/60\n",
            "186/186 [==============================] - 0s 1ms/step - loss: 0.5681\n",
            "Epoch 17/60\n",
            "186/186 [==============================] - 0s 987us/step - loss: 0.5675\n",
            "Epoch 18/60\n",
            "186/186 [==============================] - 0s 945us/step - loss: 0.5618\n",
            "Epoch 19/60\n",
            "186/186 [==============================] - 0s 942us/step - loss: 0.5545\n",
            "Epoch 20/60\n",
            "186/186 [==============================] - 0s 971us/step - loss: 0.5529\n",
            "Epoch 21/60\n",
            "186/186 [==============================] - 0s 951us/step - loss: 0.5484\n",
            "Epoch 22/60\n",
            "186/186 [==============================] - 0s 996us/step - loss: 0.5449\n",
            "Epoch 23/60\n",
            "186/186 [==============================] - 0s 950us/step - loss: 0.5408\n",
            "Epoch 24/60\n",
            "186/186 [==============================] - 0s 966us/step - loss: 0.5389\n",
            "Epoch 25/60\n",
            "186/186 [==============================] - 0s 955us/step - loss: 0.5378\n",
            "Epoch 26/60\n",
            "186/186 [==============================] - 0s 961us/step - loss: 0.5320\n",
            "Epoch 27/60\n",
            "186/186 [==============================] - 0s 1ms/step - loss: 0.5299\n",
            "Epoch 28/60\n",
            "186/186 [==============================] - 0s 946us/step - loss: 0.5277\n",
            "Epoch 29/60\n",
            "186/186 [==============================] - 0s 947us/step - loss: 0.5287\n",
            "Epoch 30/60\n",
            "186/186 [==============================] - 0s 947us/step - loss: 0.5233\n",
            "Epoch 31/60\n",
            "186/186 [==============================] - 0s 929us/step - loss: 0.5224\n",
            "Epoch 32/60\n",
            "186/186 [==============================] - 0s 939us/step - loss: 0.5184\n",
            "Epoch 33/60\n",
            "186/186 [==============================] - 0s 991us/step - loss: 0.5188\n",
            "Epoch 34/60\n",
            "186/186 [==============================] - 0s 947us/step - loss: 0.5155\n",
            "Epoch 35/60\n",
            "186/186 [==============================] - 0s 954us/step - loss: 0.5165\n",
            "Epoch 36/60\n",
            "186/186 [==============================] - 0s 947us/step - loss: 0.5148\n",
            "Epoch 37/60\n",
            "186/186 [==============================] - 0s 959us/step - loss: 0.5123\n",
            "Epoch 38/60\n",
            "186/186 [==============================] - 0s 963us/step - loss: 0.5129\n",
            "Epoch 39/60\n",
            "186/186 [==============================] - 0s 976us/step - loss: 0.5131\n",
            "Epoch 40/60\n",
            "186/186 [==============================] - 0s 954us/step - loss: 0.5134\n",
            "Epoch 41/60\n",
            "186/186 [==============================] - 0s 994us/step - loss: 0.5099\n",
            "Epoch 42/60\n",
            "186/186 [==============================] - 0s 1ms/step - loss: 0.5098\n",
            "Epoch 43/60\n",
            "186/186 [==============================] - 0s 1ms/step - loss: 0.5078\n",
            "Epoch 44/60\n",
            "186/186 [==============================] - 0s 1ms/step - loss: 0.5063\n",
            "Epoch 45/60\n",
            "186/186 [==============================] - 0s 958us/step - loss: 0.5087\n",
            "Epoch 46/60\n",
            "186/186 [==============================] - 0s 954us/step - loss: 0.5082\n",
            "Epoch 47/60\n",
            "186/186 [==============================] - 0s 941us/step - loss: 0.5047\n",
            "Epoch 48/60\n",
            "186/186 [==============================] - 0s 941us/step - loss: 0.5036\n",
            "Epoch 49/60\n",
            "186/186 [==============================] - 0s 1ms/step - loss: 0.5045\n",
            "Epoch 50/60\n",
            "186/186 [==============================] - 0s 941us/step - loss: 0.5098\n",
            "Epoch 51/60\n",
            "186/186 [==============================] - 0s 947us/step - loss: 0.5062\n",
            "Epoch 52/60\n",
            "186/186 [==============================] - 0s 964us/step - loss: 0.5038\n",
            "Epoch 53/60\n",
            "186/186 [==============================] - 0s 945us/step - loss: 0.5030\n",
            "Epoch 54/60\n",
            "186/186 [==============================] - 0s 957us/step - loss: 0.5038\n",
            "Epoch 55/60\n",
            "186/186 [==============================] - 0s 988us/step - loss: 0.5041\n",
            "Epoch 56/60\n",
            "186/186 [==============================] - 0s 941us/step - loss: 0.5013\n",
            "Epoch 57/60\n",
            "186/186 [==============================] - 0s 936us/step - loss: 0.5062\n",
            "Epoch 58/60\n",
            "186/186 [==============================] - 0s 998us/step - loss: 0.5012\n",
            "Epoch 59/60\n",
            "186/186 [==============================] - 0s 943us/step - loss: 0.5008\n",
            "Epoch 60/60\n",
            "186/186 [==============================] - 0s 973us/step - loss: 0.5035\n"
          ],
          "name": "stdout"
        },
        {
          "output_type": "execute_result",
          "data": {
            "text/plain": [
              "<tensorflow.python.keras.callbacks.History at 0x7f7287d7d1d0>"
            ]
          },
          "metadata": {
            "tags": []
          },
          "execution_count": 141
        }
      ]
    },
    {
      "cell_type": "code",
      "metadata": {
        "id": "qvI1Flm4vJiR",
        "colab_type": "code",
        "colab": {
          "base_uri": "https://localhost:8080/",
          "height": 134
        },
        "outputId": "44a01d9e-57f0-4f0c-9ff6-9a447830b54f"
      },
      "source": [
        "## Predicting the Test Set result :\n",
        "\n",
        "y_pred_ann = ann.predict(X_ann_test)\n",
        "np.set_printoptions(precision= 2)\n",
        "print( np.concatenate(( y_pred_ann.reshape(len(y_pred_ann), 1), y_ann_test.reshape(len(y_ann_test), 1)  ), 1  )  )"
      ],
      "execution_count": 142,
      "outputs": [
        {
          "output_type": "stream",
          "text": [
            "[[5.57 5.  ]\n",
            " [4.78 4.  ]\n",
            " [6.3  5.  ]\n",
            " ...\n",
            " [6.34 7.  ]\n",
            " [6.27 6.  ]\n",
            " [5.73 6.  ]]\n"
          ],
          "name": "stdout"
        }
      ]
    },
    {
      "cell_type": "code",
      "metadata": {
        "id": "fUKUqicm5EpA",
        "colab_type": "code",
        "colab": {
          "base_uri": "https://localhost:8080/",
          "height": 790
        },
        "outputId": "d0da7b86-9a2e-4975-ef18-a1bc49ef6f36"
      },
      "source": [
        "y_ann_test"
      ],
      "execution_count": 146,
      "outputs": [
        {
          "output_type": "execute_result",
          "data": {
            "text/plain": [
              "array([5, 4, 5, 3, 7, 6, 6, 5, 6, 4, 7, 6, 8, 6, 6, 6, 5, 6, 7, 8, 4, 6,\n",
              "       5, 5, 5, 5, 6, 5, 6, 5, 6, 5, 5, 7, 7, 5, 4, 5, 7, 5, 7, 7, 6, 6,\n",
              "       5, 6, 7, 5, 5, 5, 6, 6, 5, 5, 7, 7, 5, 5, 5, 5, 6, 6, 5, 6, 6, 6,\n",
              "       8, 6, 5, 5, 6, 5, 5, 6, 5, 6, 6, 5, 4, 5, 5, 6, 5, 6, 6, 7, 5, 6,\n",
              "       6, 6, 5, 5, 5, 3, 6, 5, 7, 5, 5, 5, 5, 6, 6, 6, 5, 3, 6, 5, 6, 5,\n",
              "       5, 7, 6, 6, 5, 5, 7, 6, 7, 6, 7, 6, 6, 7, 4, 5, 8, 5, 6, 7, 6, 6,\n",
              "       7, 7, 7, 6, 7, 7, 6, 6, 5, 5, 4, 7, 8, 5, 3, 5, 8, 6, 7, 4, 5, 6,\n",
              "       7, 6, 6, 6, 6, 6, 6, 6, 5, 7, 6, 7, 6, 5, 6, 6, 5, 5, 7, 6, 6, 5,\n",
              "       7, 8, 4, 5, 6, 5, 5, 6, 5, 5, 6, 5, 6, 7, 6, 6, 7, 6, 5, 5, 5, 6,\n",
              "       5, 7, 5, 6, 7, 6, 6, 8, 6, 6, 6, 5, 6, 6, 6, 5, 6, 6, 5, 6, 7, 6,\n",
              "       6, 6, 5, 6, 5, 8, 4, 6, 7, 5, 6, 4, 5, 5, 7, 7, 6, 7, 5, 5, 5, 6,\n",
              "       8, 7, 7, 6, 7, 5, 6, 6, 6, 5, 5, 6, 6, 7, 6, 6, 5, 6, 5, 6, 7, 5,\n",
              "       5, 7, 5, 6, 6, 6, 7, 5, 6, 7, 5, 5, 6, 6, 5, 5, 5, 6, 5, 6, 5, 7,\n",
              "       6, 7, 5, 7, 6, 6, 6, 6, 6, 5, 5, 5, 6, 6, 5, 6, 5, 5, 7, 5, 6, 7,\n",
              "       5, 5, 5, 5, 6, 6, 5, 6, 6, 7, 7, 6, 4, 7, 7, 6, 5, 6, 4, 6, 7, 6,\n",
              "       5, 6, 7, 5, 6, 5, 8, 5, 5, 7, 5, 5, 5, 5, 7, 6, 5, 7, 6, 7, 5, 5,\n",
              "       6, 6, 5, 5, 5, 6, 5, 6, 7, 5, 6, 6, 6, 6, 6, 5, 7, 6, 7, 6, 7, 6,\n",
              "       6, 6, 6, 7, 8, 7, 7, 6, 7, 7, 5, 5, 6, 5, 6, 6, 5, 4, 6, 6, 6, 6,\n",
              "       7, 7, 7, 8, 7, 6, 6, 6, 7, 7, 7, 5, 6, 6, 6, 6, 6, 7, 7, 7, 5, 6,\n",
              "       6, 6, 6, 6, 5, 6, 5, 7, 6, 6, 4, 5, 6, 5, 6, 6, 6, 7, 7, 5, 5, 6,\n",
              "       7, 6, 6, 6, 6, 6, 7, 4, 6, 5, 5, 7, 6, 8, 5, 7, 5, 6, 7, 5, 6, 6,\n",
              "       6, 5, 6, 5, 5, 5, 6, 5, 6, 6, 4, 6, 6, 6, 6, 4, 7, 4, 3, 7, 5, 6,\n",
              "       6, 6, 6, 5, 5, 7, 6, 6, 6, 7, 5, 5, 7, 6, 6, 6, 6, 6, 6, 6, 8, 6,\n",
              "       7, 7, 5, 5, 7, 5, 5, 6, 7, 5, 5, 5, 6, 7, 6, 7, 6, 6, 6, 5, 7, 6,\n",
              "       6, 6, 5, 6, 6, 7, 5, 7, 5, 7, 6, 5, 6, 6, 6, 6, 5, 7, 7, 5, 9, 6,\n",
              "       6, 7, 5, 7, 5, 6, 6, 6, 6, 4, 6, 7, 5, 6, 6, 6, 7, 5, 5, 5, 6, 6,\n",
              "       6, 4, 6, 8, 8, 5, 5, 7, 5, 6, 6, 6, 7, 7, 6, 5, 5, 6, 6, 6, 6, 5,\n",
              "       7, 6, 5, 6, 5, 6, 6, 5, 7, 6, 7, 6, 6, 5, 6, 6, 6, 6, 6, 4, 6, 6,\n",
              "       5, 5, 6, 5, 6, 6, 7, 7, 6, 5, 7, 6, 6, 5, 5, 5, 6, 5, 7, 6, 6, 5,\n",
              "       4, 7, 5, 6, 6, 5, 6, 7, 6, 5, 6, 5, 6, 6, 6, 5, 4, 6, 5, 6, 6, 5,\n",
              "       6, 5, 7, 7, 6, 6, 6, 5, 6, 6, 6, 4, 5, 6, 6, 6, 6, 5, 6, 7, 6, 6,\n",
              "       6, 6, 7, 5, 6, 6, 6, 6, 7, 6, 6, 6, 5, 3, 6, 5, 7, 6, 5, 5, 5, 5,\n",
              "       6, 5, 7, 6, 5, 6, 6, 6, 5, 6, 5, 5, 5, 6, 6, 6, 8, 6, 5, 5, 5, 5,\n",
              "       5, 5, 8, 6, 6, 7, 8, 5, 6, 6, 6, 6, 5, 5, 7, 5, 6, 7, 5, 6, 7, 4,\n",
              "       6, 6, 6, 5, 5, 5, 4, 6, 6, 5, 6, 6, 7, 5, 6, 6, 6, 6, 5, 6, 6, 5,\n",
              "       6, 8, 6, 5, 7, 7, 6, 6, 6, 6, 6, 5, 6, 5, 7, 7, 7, 6, 8, 5, 5, 7,\n",
              "       6, 8, 6, 5, 5, 6, 6, 6, 6, 4, 7, 7, 7, 6, 5, 6, 5, 5, 5, 5, 6, 7,\n",
              "       6, 6, 6, 6, 5, 6, 5, 5, 6, 7, 6, 6, 5, 5, 5, 4, 5, 7, 6, 5, 5, 6,\n",
              "       5, 4, 5, 6, 6, 6, 6, 6, 6, 6, 6, 6, 6, 5, 6, 6, 6, 7, 6, 6, 5, 7,\n",
              "       6, 6, 5, 6, 6, 5, 6, 6, 6, 7, 6, 5, 6, 6, 7, 5, 7, 6, 6, 6, 5, 5,\n",
              "       7, 6, 7, 7, 7, 5, 8, 6, 8, 7, 6, 5, 7, 6, 6, 5, 7, 6, 6, 6, 6, 5,\n",
              "       6, 5, 8, 7, 5, 6, 5, 6, 8, 5, 6, 6, 6, 6, 6, 6, 7, 7, 7, 5, 6, 5,\n",
              "       5, 4, 5, 6, 7, 6, 3, 6, 5, 6, 6, 5, 6, 6, 5, 5, 5, 6, 5, 8, 7, 6,\n",
              "       5, 5, 6, 8, 7, 5, 4, 6, 6, 5, 6, 5, 6, 6, 6, 6, 6, 5, 5, 7, 6, 5,\n",
              "       6, 4, 6, 5, 5, 6, 5, 5, 6, 5, 6, 5, 5, 5, 6, 5, 6, 6, 7, 7, 7, 6,\n",
              "       6])"
            ]
          },
          "metadata": {
            "tags": []
          },
          "execution_count": 146
        }
      ]
    },
    {
      "cell_type": "code",
      "metadata": {
        "id": "aW8mJ4rl7he4",
        "colab_type": "code",
        "colab": {}
      },
      "source": [
        ""
      ],
      "execution_count": 0,
      "outputs": []
    }
  ]
}